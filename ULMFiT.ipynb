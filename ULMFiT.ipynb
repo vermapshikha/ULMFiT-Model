{
  "nbformat": 4,
  "nbformat_minor": 0,
  "metadata": {
    "colab": {
      "name": "ULMFiT.ipynb",
      "version": "0.3.2",
      "provenance": [],
      "collapsed_sections": []
    },
    "kernelspec": {
      "name": "python3",
      "display_name": "Python 3"
    },
    "accelerator": "GPU"
  },
  "cells": [
    {
      "cell_type": "markdown",
      "metadata": {
        "id": "FCG2HLM8Qdvi",
        "colab_type": "text"
      },
      "source": [
        "**Challenge:** Apply a supervised or semi-supervised ULMFiT model to Twitter US Airlines Sentiment "
      ]
    },
    {
      "cell_type": "code",
      "metadata": {
        "id": "Tp59bClUs0pf",
        "colab_type": "code",
        "colab": {}
      },
      "source": [
        "#Loading basic packages\n",
        "\n",
        "import pandas as pd \n",
        "import numpy as np\n",
        "import matplotlib.pyplot as plt\n",
        "\n",
        "# Making the text prepocessing easy with fastai package. As the library simplifies training the data quickly\n",
        "\n",
        "import fastai\n",
        "\n",
        "# The DataBunch module of fastai posses all the functions to convert the text statements sutiable for NLP and helps in creating the models quickly and efficiently\n",
        "\n",
        "from fastai.text import *\n",
        "from google.colab import files\n",
        "\n",
        "#Used for splitting the data for training and testing the model\n",
        "from sklearn.model_selection import train_test_split\n",
        "import string\n"
      ],
      "execution_count": 0,
      "outputs": []
    },
    {
      "cell_type": "code",
      "metadata": {
        "id": "ma1jFPzgQiP8",
        "colab_type": "code",
        "outputId": "0ad92563-5237-40e1-b5d3-97dbe5ad0a2e",
        "colab": {
          "resources": {
            "http://localhost:8080/nbextensions/google.colab/files.js": {
              "data": "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",
              "ok": true,
              "headers": [
                [
                  "content-type",
                  "application/javascript"
                ]
              ],
              "status": 200,
              "status_text": ""
            }
          },
          "base_uri": "https://localhost:8080/",
          "height": 57
        }
      },
      "source": [
        "#Downloading the Tweets data for analysis\n",
        "files.upload()"
      ],
      "execution_count": 0,
      "outputs": [
        {
          "output_type": "display_data",
          "data": {
            "text/html": [
              "\n",
              "     <input type=\"file\" id=\"files-a94b48ef-f571-4b34-b7c6-337869d9c55a\" name=\"files[]\" multiple disabled />\n",
              "     <output id=\"result-a94b48ef-f571-4b34-b7c6-337869d9c55a\">\n",
              "      Upload widget is only available when the cell has been executed in the\n",
              "      current browser session. Please rerun this cell to enable.\n",
              "      </output>\n",
              "      <script src=\"/nbextensions/google.colab/files.js\"></script> "
            ],
            "text/plain": [
              "<IPython.core.display.HTML object>"
            ]
          },
          "metadata": {
            "tags": []
          }
        },
        {
          "output_type": "execute_result",
          "data": {
            "text/plain": [
              "{}"
            ]
          },
          "metadata": {
            "tags": []
          },
          "execution_count": 2
        }
      ]
    },
    {
      "cell_type": "code",
      "metadata": {
        "id": "8m3fMztNQqu3",
        "colab_type": "code",
        "outputId": "a6c7dece-b5e7-456b-91b4-f479e261504b",
        "colab": {
          "base_uri": "https://localhost:8080/",
          "height": 434
        }
      },
      "source": [
        "#Reading the file for twitter sentiment analysis and showing the content of csv file\n",
        "df = pd.read_csv(\"Tweets.csv\")\n",
        "df.head()"
      ],
      "execution_count": 0,
      "outputs": [
        {
          "output_type": "execute_result",
          "data": {
            "text/html": [
              "<div>\n",
              "<style scoped>\n",
              "    .dataframe tbody tr th:only-of-type {\n",
              "        vertical-align: middle;\n",
              "    }\n",
              "\n",
              "    .dataframe tbody tr th {\n",
              "        vertical-align: top;\n",
              "    }\n",
              "\n",
              "    .dataframe thead th {\n",
              "        text-align: right;\n",
              "    }\n",
              "</style>\n",
              "<table border=\"1\" class=\"dataframe\">\n",
              "  <thead>\n",
              "    <tr style=\"text-align: right;\">\n",
              "      <th></th>\n",
              "      <th>tweet_id</th>\n",
              "      <th>airline_sentiment</th>\n",
              "      <th>airline_sentiment_confidence</th>\n",
              "      <th>negativereason</th>\n",
              "      <th>negativereason_confidence</th>\n",
              "      <th>airline</th>\n",
              "      <th>airline_sentiment_gold</th>\n",
              "      <th>name</th>\n",
              "      <th>negativereason_gold</th>\n",
              "      <th>retweet_count</th>\n",
              "      <th>text</th>\n",
              "      <th>tweet_coord</th>\n",
              "      <th>tweet_created</th>\n",
              "      <th>tweet_location</th>\n",
              "      <th>user_timezone</th>\n",
              "    </tr>\n",
              "  </thead>\n",
              "  <tbody>\n",
              "    <tr>\n",
              "      <th>0</th>\n",
              "      <td>570306133677760513</td>\n",
              "      <td>neutral</td>\n",
              "      <td>1.0000</td>\n",
              "      <td>NaN</td>\n",
              "      <td>NaN</td>\n",
              "      <td>Virgin America</td>\n",
              "      <td>NaN</td>\n",
              "      <td>cairdin</td>\n",
              "      <td>NaN</td>\n",
              "      <td>0</td>\n",
              "      <td>@VirginAmerica What @dhepburn said.</td>\n",
              "      <td>NaN</td>\n",
              "      <td>2015-02-24 11:35:52 -0800</td>\n",
              "      <td>NaN</td>\n",
              "      <td>Eastern Time (US &amp; Canada)</td>\n",
              "    </tr>\n",
              "    <tr>\n",
              "      <th>1</th>\n",
              "      <td>570301130888122368</td>\n",
              "      <td>positive</td>\n",
              "      <td>0.3486</td>\n",
              "      <td>NaN</td>\n",
              "      <td>0.0000</td>\n",
              "      <td>Virgin America</td>\n",
              "      <td>NaN</td>\n",
              "      <td>jnardino</td>\n",
              "      <td>NaN</td>\n",
              "      <td>0</td>\n",
              "      <td>@VirginAmerica plus you've added commercials t...</td>\n",
              "      <td>NaN</td>\n",
              "      <td>2015-02-24 11:15:59 -0800</td>\n",
              "      <td>NaN</td>\n",
              "      <td>Pacific Time (US &amp; Canada)</td>\n",
              "    </tr>\n",
              "    <tr>\n",
              "      <th>2</th>\n",
              "      <td>570301083672813571</td>\n",
              "      <td>neutral</td>\n",
              "      <td>0.6837</td>\n",
              "      <td>NaN</td>\n",
              "      <td>NaN</td>\n",
              "      <td>Virgin America</td>\n",
              "      <td>NaN</td>\n",
              "      <td>yvonnalynn</td>\n",
              "      <td>NaN</td>\n",
              "      <td>0</td>\n",
              "      <td>@VirginAmerica I didn't today... Must mean I n...</td>\n",
              "      <td>NaN</td>\n",
              "      <td>2015-02-24 11:15:48 -0800</td>\n",
              "      <td>Lets Play</td>\n",
              "      <td>Central Time (US &amp; Canada)</td>\n",
              "    </tr>\n",
              "    <tr>\n",
              "      <th>3</th>\n",
              "      <td>570301031407624196</td>\n",
              "      <td>negative</td>\n",
              "      <td>1.0000</td>\n",
              "      <td>Bad Flight</td>\n",
              "      <td>0.7033</td>\n",
              "      <td>Virgin America</td>\n",
              "      <td>NaN</td>\n",
              "      <td>jnardino</td>\n",
              "      <td>NaN</td>\n",
              "      <td>0</td>\n",
              "      <td>@VirginAmerica it's really aggressive to blast...</td>\n",
              "      <td>NaN</td>\n",
              "      <td>2015-02-24 11:15:36 -0800</td>\n",
              "      <td>NaN</td>\n",
              "      <td>Pacific Time (US &amp; Canada)</td>\n",
              "    </tr>\n",
              "    <tr>\n",
              "      <th>4</th>\n",
              "      <td>570300817074462722</td>\n",
              "      <td>negative</td>\n",
              "      <td>1.0000</td>\n",
              "      <td>Can't Tell</td>\n",
              "      <td>1.0000</td>\n",
              "      <td>Virgin America</td>\n",
              "      <td>NaN</td>\n",
              "      <td>jnardino</td>\n",
              "      <td>NaN</td>\n",
              "      <td>0</td>\n",
              "      <td>@VirginAmerica and it's a really big bad thing...</td>\n",
              "      <td>NaN</td>\n",
              "      <td>2015-02-24 11:14:45 -0800</td>\n",
              "      <td>NaN</td>\n",
              "      <td>Pacific Time (US &amp; Canada)</td>\n",
              "    </tr>\n",
              "  </tbody>\n",
              "</table>\n",
              "</div>"
            ],
            "text/plain": [
              "             tweet_id  ...               user_timezone\n",
              "0  570306133677760513  ...  Eastern Time (US & Canada)\n",
              "1  570301130888122368  ...  Pacific Time (US & Canada)\n",
              "2  570301083672813571  ...  Central Time (US & Canada)\n",
              "3  570301031407624196  ...  Pacific Time (US & Canada)\n",
              "4  570300817074462722  ...  Pacific Time (US & Canada)\n",
              "\n",
              "[5 rows x 15 columns]"
            ]
          },
          "metadata": {
            "tags": []
          },
          "execution_count": 2
        }
      ]
    },
    {
      "cell_type": "code",
      "metadata": {
        "id": "cWPQnug5Q4vf",
        "colab_type": "code",
        "outputId": "0c4aa25f-f620-44e3-9a7c-fa25db20d087",
        "colab": {
          "base_uri": "https://localhost:8080/",
          "height": 52
        }
      },
      "source": [
        "print(\"Number of entries in the Tweets dataset: \",len(df))\n",
        "print(\"Shape of the Tweets dataset: \",df.shape)"
      ],
      "execution_count": 0,
      "outputs": [
        {
          "output_type": "stream",
          "text": [
            "Number of entries in the Tweets dataset:  14640\n",
            "Shape of the Tweets dataset:  (14640, 15)\n"
          ],
          "name": "stdout"
        }
      ]
    },
    {
      "cell_type": "markdown",
      "metadata": {
        "id": "heqeYD50RTfS",
        "colab_type": "text"
      },
      "source": [
        "This challenge will basically help us in getting answers of the two questions shown below:\n",
        "\n",
        "\n",
        "*   Can ULMFiT really perform well on small datasets?\n",
        "\n",
        "*  How well can knowledge be transferred from a source domain that is quite different to the target domain?\n",
        "\n",
        "This problem of implementing ULMFiT model is to help us understand the importance of Transfer Learning.The biggest challenge in deep learning is having huge data requirements for training the models but, sometimes the data is not sufficient for training the model and also high computing required for the execution of these algortihms. This is where Transfer Learning comes into picture where we have a pretrained model on complex dataset and we just need to fine tune the model according to our dataset to get efficient results.\n",
        "\n",
        "As the ULMFiT Model is pretrained on Wikitext-103 dataset containing 28,595 preprocessed English articles and 103 million words, we will for this challenge just need to fine tune the parameters for the model to get great accuracy on our twitter data which consists of only 14,640 entries. The analysis will help us answer the two questions\n",
        "\n"
      ]
    },
    {
      "cell_type": "markdown",
      "metadata": {
        "id": "Lra_-d95RcCH",
        "colab_type": "text"
      },
      "source": [
        "**Data Visualizations and Exploration**"
      ]
    },
    {
      "cell_type": "code",
      "metadata": {
        "id": "t_d1gUpXQ8dh",
        "colab_type": "code",
        "outputId": "73fa2e83-3f7f-4ee9-9ffe-774a0c46a7ac",
        "colab": {
          "base_uri": "https://localhost:8080/",
          "height": 414
        }
      },
      "source": [
        "df.describe(include='all')"
      ],
      "execution_count": 0,
      "outputs": [
        {
          "output_type": "execute_result",
          "data": {
            "text/html": [
              "<div>\n",
              "<style scoped>\n",
              "    .dataframe tbody tr th:only-of-type {\n",
              "        vertical-align: middle;\n",
              "    }\n",
              "\n",
              "    .dataframe tbody tr th {\n",
              "        vertical-align: top;\n",
              "    }\n",
              "\n",
              "    .dataframe thead th {\n",
              "        text-align: right;\n",
              "    }\n",
              "</style>\n",
              "<table border=\"1\" class=\"dataframe\">\n",
              "  <thead>\n",
              "    <tr style=\"text-align: right;\">\n",
              "      <th></th>\n",
              "      <th>tweet_id</th>\n",
              "      <th>airline_sentiment</th>\n",
              "      <th>airline_sentiment_confidence</th>\n",
              "      <th>negativereason</th>\n",
              "      <th>negativereason_confidence</th>\n",
              "      <th>airline</th>\n",
              "      <th>airline_sentiment_gold</th>\n",
              "      <th>name</th>\n",
              "      <th>negativereason_gold</th>\n",
              "      <th>retweet_count</th>\n",
              "      <th>text</th>\n",
              "      <th>tweet_coord</th>\n",
              "      <th>tweet_created</th>\n",
              "      <th>tweet_location</th>\n",
              "      <th>user_timezone</th>\n",
              "    </tr>\n",
              "  </thead>\n",
              "  <tbody>\n",
              "    <tr>\n",
              "      <th>count</th>\n",
              "      <td>1.464000e+04</td>\n",
              "      <td>14640</td>\n",
              "      <td>14640.000000</td>\n",
              "      <td>9178</td>\n",
              "      <td>10522.000000</td>\n",
              "      <td>14640</td>\n",
              "      <td>40</td>\n",
              "      <td>14640</td>\n",
              "      <td>32</td>\n",
              "      <td>14640.000000</td>\n",
              "      <td>14640</td>\n",
              "      <td>1019</td>\n",
              "      <td>14640</td>\n",
              "      <td>9907</td>\n",
              "      <td>9820</td>\n",
              "    </tr>\n",
              "    <tr>\n",
              "      <th>unique</th>\n",
              "      <td>NaN</td>\n",
              "      <td>3</td>\n",
              "      <td>NaN</td>\n",
              "      <td>10</td>\n",
              "      <td>NaN</td>\n",
              "      <td>6</td>\n",
              "      <td>3</td>\n",
              "      <td>7701</td>\n",
              "      <td>13</td>\n",
              "      <td>NaN</td>\n",
              "      <td>14427</td>\n",
              "      <td>832</td>\n",
              "      <td>14247</td>\n",
              "      <td>3081</td>\n",
              "      <td>85</td>\n",
              "    </tr>\n",
              "    <tr>\n",
              "      <th>top</th>\n",
              "      <td>NaN</td>\n",
              "      <td>negative</td>\n",
              "      <td>NaN</td>\n",
              "      <td>Customer Service Issue</td>\n",
              "      <td>NaN</td>\n",
              "      <td>United</td>\n",
              "      <td>negative</td>\n",
              "      <td>JetBlueNews</td>\n",
              "      <td>Customer Service Issue</td>\n",
              "      <td>NaN</td>\n",
              "      <td>@united thanks</td>\n",
              "      <td>[0.0, 0.0]</td>\n",
              "      <td>2015-02-24 09:54:34 -0800</td>\n",
              "      <td>Boston, MA</td>\n",
              "      <td>Eastern Time (US &amp; Canada)</td>\n",
              "    </tr>\n",
              "    <tr>\n",
              "      <th>freq</th>\n",
              "      <td>NaN</td>\n",
              "      <td>9178</td>\n",
              "      <td>NaN</td>\n",
              "      <td>2910</td>\n",
              "      <td>NaN</td>\n",
              "      <td>3822</td>\n",
              "      <td>32</td>\n",
              "      <td>63</td>\n",
              "      <td>12</td>\n",
              "      <td>NaN</td>\n",
              "      <td>6</td>\n",
              "      <td>164</td>\n",
              "      <td>5</td>\n",
              "      <td>157</td>\n",
              "      <td>3744</td>\n",
              "    </tr>\n",
              "    <tr>\n",
              "      <th>mean</th>\n",
              "      <td>5.692184e+17</td>\n",
              "      <td>NaN</td>\n",
              "      <td>0.900169</td>\n",
              "      <td>NaN</td>\n",
              "      <td>0.638298</td>\n",
              "      <td>NaN</td>\n",
              "      <td>NaN</td>\n",
              "      <td>NaN</td>\n",
              "      <td>NaN</td>\n",
              "      <td>0.082650</td>\n",
              "      <td>NaN</td>\n",
              "      <td>NaN</td>\n",
              "      <td>NaN</td>\n",
              "      <td>NaN</td>\n",
              "      <td>NaN</td>\n",
              "    </tr>\n",
              "    <tr>\n",
              "      <th>std</th>\n",
              "      <td>7.791112e+14</td>\n",
              "      <td>NaN</td>\n",
              "      <td>0.162830</td>\n",
              "      <td>NaN</td>\n",
              "      <td>0.330440</td>\n",
              "      <td>NaN</td>\n",
              "      <td>NaN</td>\n",
              "      <td>NaN</td>\n",
              "      <td>NaN</td>\n",
              "      <td>0.745778</td>\n",
              "      <td>NaN</td>\n",
              "      <td>NaN</td>\n",
              "      <td>NaN</td>\n",
              "      <td>NaN</td>\n",
              "      <td>NaN</td>\n",
              "    </tr>\n",
              "    <tr>\n",
              "      <th>min</th>\n",
              "      <td>5.675883e+17</td>\n",
              "      <td>NaN</td>\n",
              "      <td>0.335000</td>\n",
              "      <td>NaN</td>\n",
              "      <td>0.000000</td>\n",
              "      <td>NaN</td>\n",
              "      <td>NaN</td>\n",
              "      <td>NaN</td>\n",
              "      <td>NaN</td>\n",
              "      <td>0.000000</td>\n",
              "      <td>NaN</td>\n",
              "      <td>NaN</td>\n",
              "      <td>NaN</td>\n",
              "      <td>NaN</td>\n",
              "      <td>NaN</td>\n",
              "    </tr>\n",
              "    <tr>\n",
              "      <th>25%</th>\n",
              "      <td>5.685592e+17</td>\n",
              "      <td>NaN</td>\n",
              "      <td>0.692300</td>\n",
              "      <td>NaN</td>\n",
              "      <td>0.360600</td>\n",
              "      <td>NaN</td>\n",
              "      <td>NaN</td>\n",
              "      <td>NaN</td>\n",
              "      <td>NaN</td>\n",
              "      <td>0.000000</td>\n",
              "      <td>NaN</td>\n",
              "      <td>NaN</td>\n",
              "      <td>NaN</td>\n",
              "      <td>NaN</td>\n",
              "      <td>NaN</td>\n",
              "    </tr>\n",
              "    <tr>\n",
              "      <th>50%</th>\n",
              "      <td>5.694779e+17</td>\n",
              "      <td>NaN</td>\n",
              "      <td>1.000000</td>\n",
              "      <td>NaN</td>\n",
              "      <td>0.670600</td>\n",
              "      <td>NaN</td>\n",
              "      <td>NaN</td>\n",
              "      <td>NaN</td>\n",
              "      <td>NaN</td>\n",
              "      <td>0.000000</td>\n",
              "      <td>NaN</td>\n",
              "      <td>NaN</td>\n",
              "      <td>NaN</td>\n",
              "      <td>NaN</td>\n",
              "      <td>NaN</td>\n",
              "    </tr>\n",
              "    <tr>\n",
              "      <th>75%</th>\n",
              "      <td>5.698905e+17</td>\n",
              "      <td>NaN</td>\n",
              "      <td>1.000000</td>\n",
              "      <td>NaN</td>\n",
              "      <td>1.000000</td>\n",
              "      <td>NaN</td>\n",
              "      <td>NaN</td>\n",
              "      <td>NaN</td>\n",
              "      <td>NaN</td>\n",
              "      <td>0.000000</td>\n",
              "      <td>NaN</td>\n",
              "      <td>NaN</td>\n",
              "      <td>NaN</td>\n",
              "      <td>NaN</td>\n",
              "      <td>NaN</td>\n",
              "    </tr>\n",
              "    <tr>\n",
              "      <th>max</th>\n",
              "      <td>5.703106e+17</td>\n",
              "      <td>NaN</td>\n",
              "      <td>1.000000</td>\n",
              "      <td>NaN</td>\n",
              "      <td>1.000000</td>\n",
              "      <td>NaN</td>\n",
              "      <td>NaN</td>\n",
              "      <td>NaN</td>\n",
              "      <td>NaN</td>\n",
              "      <td>44.000000</td>\n",
              "      <td>NaN</td>\n",
              "      <td>NaN</td>\n",
              "      <td>NaN</td>\n",
              "      <td>NaN</td>\n",
              "      <td>NaN</td>\n",
              "    </tr>\n",
              "  </tbody>\n",
              "</table>\n",
              "</div>"
            ],
            "text/plain": [
              "            tweet_id  ...               user_timezone\n",
              "count   1.464000e+04  ...                        9820\n",
              "unique           NaN  ...                          85\n",
              "top              NaN  ...  Eastern Time (US & Canada)\n",
              "freq             NaN  ...                        3744\n",
              "mean    5.692184e+17  ...                         NaN\n",
              "std     7.791112e+14  ...                         NaN\n",
              "min     5.675883e+17  ...                         NaN\n",
              "25%     5.685592e+17  ...                         NaN\n",
              "50%     5.694779e+17  ...                         NaN\n",
              "75%     5.698905e+17  ...                         NaN\n",
              "max     5.703106e+17  ...                         NaN\n",
              "\n",
              "[11 rows x 15 columns]"
            ]
          },
          "metadata": {
            "tags": []
          },
          "execution_count": 4
        }
      ]
    },
    {
      "cell_type": "code",
      "metadata": {
        "id": "WxrbR3mkReci",
        "colab_type": "code",
        "outputId": "95546691-ee22-4350-fd8f-7ea2e143abd3",
        "colab": {
          "base_uri": "https://localhost:8080/",
          "height": 301
        }
      },
      "source": [
        "#Count the null entries in particular columns of data\n",
        "df.isnull().sum()"
      ],
      "execution_count": 0,
      "outputs": [
        {
          "output_type": "execute_result",
          "data": {
            "text/plain": [
              "tweet_id                            0\n",
              "airline_sentiment                   0\n",
              "airline_sentiment_confidence        0\n",
              "negativereason                   5462\n",
              "negativereason_confidence        4118\n",
              "airline                             0\n",
              "airline_sentiment_gold          14600\n",
              "name                                0\n",
              "negativereason_gold             14608\n",
              "retweet_count                       0\n",
              "text                                0\n",
              "tweet_coord                     13621\n",
              "tweet_created                       0\n",
              "tweet_location                   4733\n",
              "user_timezone                    4820\n",
              "dtype: int64"
            ]
          },
          "metadata": {
            "tags": []
          },
          "execution_count": 5
        }
      ]
    },
    {
      "cell_type": "code",
      "metadata": {
        "id": "L8F_ASgpRgYO",
        "colab_type": "code",
        "outputId": "d0cecae6-daa6-4125-b7f2-93cc18d92d04",
        "colab": {
          "base_uri": "https://localhost:8080/",
          "height": 387
        }
      },
      "source": [
        "#Understand how many entries are in each category of target variable\n",
        "sentimentcount=df.airline_sentiment.value_counts()\n",
        "print(sentimentcount)\n",
        "sentimentcount.plot(kind='bar')\n",
        "plt.xlabel(\"Target category\")\n",
        "plt.ylabel(\"Number of entries\")\n",
        "plt.show()\n"
      ],
      "execution_count": 0,
      "outputs": [
        {
          "output_type": "stream",
          "text": [
            "negative    9178\n",
            "neutral     3099\n",
            "positive    2363\n",
            "Name: airline_sentiment, dtype: int64\n"
          ],
          "name": "stdout"
        },
        {
          "output_type": "display_data",
          "data": {
            "image/png": "[encoded data removed]",
            "text/plain": [
              "<Figure size 432x288 with 1 Axes>"
            ]
          },
          "metadata": {
            "tags": []
          }
        }
      ]
    },
    {
      "cell_type": "code",
      "metadata": {
        "id": "bAQCtTPGRiJh",
        "colab_type": "code",
        "outputId": "fabc007f-a4f3-4caf-c460-41f220f5bd2f",
        "colab": {
          "base_uri": "https://localhost:8080/",
          "height": 607
        }
      },
      "source": [
        "#know the negative reasons count\n",
        "nr=df.negativereason.value_counts()\n",
        "print(nr)\n",
        "nr.plot(kind='bar')\n",
        "plt.xlabel(\"Negative Reason\")\n",
        "plt.ylabel(\"Number of entries\")\n",
        "plt.show()"
      ],
      "execution_count": 0,
      "outputs": [
        {
          "output_type": "stream",
          "text": [
            "Customer Service Issue         2910\n",
            "Late Flight                    1665\n",
            "Can't Tell                     1190\n",
            "Cancelled Flight                847\n",
            "Lost Luggage                    724\n",
            "Bad Flight                      580\n",
            "Flight Booking Problems         529\n",
            "Flight Attendant Complaints     481\n",
            "longlines                       178\n",
            "Damaged Luggage                  74\n",
            "Name: negativereason, dtype: int64\n"
          ],
          "name": "stdout"
        },
        {
          "output_type": "display_data",
          "data": {
            "image/png": "[encoded data removed]",
            "text/plain": [
              "<Figure size 432x288 with 1 Axes>"
            ]
          },
          "metadata": {
            "tags": []
          }
        }
      ]
    },
    {
      "cell_type": "code",
      "metadata": {
        "id": "PYs8A0wYR_Fi",
        "colab_type": "code",
        "outputId": "aae251e1-84e1-4dd4-995e-e5ea1a57e824",
        "colab": {
          "base_uri": "https://localhost:8080/",
          "height": 1000
        }
      },
      "source": [
        "#To know relation between negative reason and particular flight\n",
        "df1 = df.groupby(['negativereason','airline'])\n",
        "df1 = df1.airline_sentiment.value_counts()\n",
        "df1.unstack()"
      ],
      "execution_count": 0,
      "outputs": [
        {
          "output_type": "execute_result",
          "data": {
            "text/html": [
              "<div>\n",
              "<style scoped>\n",
              "    .dataframe tbody tr th:only-of-type {\n",
              "        vertical-align: middle;\n",
              "    }\n",
              "\n",
              "    .dataframe tbody tr th {\n",
              "        vertical-align: top;\n",
              "    }\n",
              "\n",
              "    .dataframe thead th {\n",
              "        text-align: right;\n",
              "    }\n",
              "</style>\n",
              "<table border=\"1\" class=\"dataframe\">\n",
              "  <thead>\n",
              "    <tr style=\"text-align: right;\">\n",
              "      <th></th>\n",
              "      <th>airline_sentiment</th>\n",
              "      <th>negative</th>\n",
              "    </tr>\n",
              "    <tr>\n",
              "      <th>negativereason</th>\n",
              "      <th>airline</th>\n",
              "      <th></th>\n",
              "    </tr>\n",
              "  </thead>\n",
              "  <tbody>\n",
              "    <tr>\n",
              "      <th rowspan=\"6\" valign=\"top\">Bad Flight</th>\n",
              "      <th>American</th>\n",
              "      <td>87</td>\n",
              "    </tr>\n",
              "    <tr>\n",
              "      <th>Delta</th>\n",
              "      <td>64</td>\n",
              "    </tr>\n",
              "    <tr>\n",
              "      <th>Southwest</th>\n",
              "      <td>90</td>\n",
              "    </tr>\n",
              "    <tr>\n",
              "      <th>US Airways</th>\n",
              "      <td>104</td>\n",
              "    </tr>\n",
              "    <tr>\n",
              "      <th>United</th>\n",
              "      <td>216</td>\n",
              "    </tr>\n",
              "    <tr>\n",
              "      <th>Virgin America</th>\n",
              "      <td>19</td>\n",
              "    </tr>\n",
              "    <tr>\n",
              "      <th rowspan=\"6\" valign=\"top\">Can't Tell</th>\n",
              "      <th>American</th>\n",
              "      <td>198</td>\n",
              "    </tr>\n",
              "    <tr>\n",
              "      <th>Delta</th>\n",
              "      <td>186</td>\n",
              "    </tr>\n",
              "    <tr>\n",
              "      <th>Southwest</th>\n",
              "      <td>159</td>\n",
              "    </tr>\n",
              "    <tr>\n",
              "      <th>US Airways</th>\n",
              "      <td>246</td>\n",
              "    </tr>\n",
              "    <tr>\n",
              "      <th>United</th>\n",
              "      <td>379</td>\n",
              "    </tr>\n",
              "    <tr>\n",
              "      <th>Virgin America</th>\n",
              "      <td>22</td>\n",
              "    </tr>\n",
              "    <tr>\n",
              "      <th rowspan=\"6\" valign=\"top\">Cancelled Flight</th>\n",
              "      <th>American</th>\n",
              "      <td>246</td>\n",
              "    </tr>\n",
              "    <tr>\n",
              "      <th>Delta</th>\n",
              "      <td>51</td>\n",
              "    </tr>\n",
              "    <tr>\n",
              "      <th>Southwest</th>\n",
              "      <td>162</td>\n",
              "    </tr>\n",
              "    <tr>\n",
              "      <th>US Airways</th>\n",
              "      <td>189</td>\n",
              "    </tr>\n",
              "    <tr>\n",
              "      <th>United</th>\n",
              "      <td>181</td>\n",
              "    </tr>\n",
              "    <tr>\n",
              "      <th>Virgin America</th>\n",
              "      <td>18</td>\n",
              "    </tr>\n",
              "    <tr>\n",
              "      <th rowspan=\"6\" valign=\"top\">Customer Service Issue</th>\n",
              "      <th>American</th>\n",
              "      <td>768</td>\n",
              "    </tr>\n",
              "    <tr>\n",
              "      <th>Delta</th>\n",
              "      <td>199</td>\n",
              "    </tr>\n",
              "    <tr>\n",
              "      <th>Southwest</th>\n",
              "      <td>391</td>\n",
              "    </tr>\n",
              "    <tr>\n",
              "      <th>US Airways</th>\n",
              "      <td>811</td>\n",
              "    </tr>\n",
              "    <tr>\n",
              "      <th>United</th>\n",
              "      <td>681</td>\n",
              "    </tr>\n",
              "    <tr>\n",
              "      <th>Virgin America</th>\n",
              "      <td>60</td>\n",
              "    </tr>\n",
              "    <tr>\n",
              "      <th rowspan=\"6\" valign=\"top\">Damaged Luggage</th>\n",
              "      <th>American</th>\n",
              "      <td>12</td>\n",
              "    </tr>\n",
              "    <tr>\n",
              "      <th>Delta</th>\n",
              "      <td>11</td>\n",
              "    </tr>\n",
              "    <tr>\n",
              "      <th>Southwest</th>\n",
              "      <td>14</td>\n",
              "    </tr>\n",
              "    <tr>\n",
              "      <th>US Airways</th>\n",
              "      <td>11</td>\n",
              "    </tr>\n",
              "    <tr>\n",
              "      <th>United</th>\n",
              "      <td>22</td>\n",
              "    </tr>\n",
              "    <tr>\n",
              "      <th>Virgin America</th>\n",
              "      <td>4</td>\n",
              "    </tr>\n",
              "    <tr>\n",
              "      <th rowspan=\"6\" valign=\"top\">Flight Attendant Complaints</th>\n",
              "      <th>American</th>\n",
              "      <td>87</td>\n",
              "    </tr>\n",
              "    <tr>\n",
              "      <th>Delta</th>\n",
              "      <td>60</td>\n",
              "    </tr>\n",
              "    <tr>\n",
              "      <th>Southwest</th>\n",
              "      <td>38</td>\n",
              "    </tr>\n",
              "    <tr>\n",
              "      <th>US Airways</th>\n",
              "      <td>123</td>\n",
              "    </tr>\n",
              "    <tr>\n",
              "      <th>United</th>\n",
              "      <td>168</td>\n",
              "    </tr>\n",
              "    <tr>\n",
              "      <th>Virgin America</th>\n",
              "      <td>5</td>\n",
              "    </tr>\n",
              "    <tr>\n",
              "      <th rowspan=\"6\" valign=\"top\">Flight Booking Problems</th>\n",
              "      <th>American</th>\n",
              "      <td>130</td>\n",
              "    </tr>\n",
              "    <tr>\n",
              "      <th>Delta</th>\n",
              "      <td>44</td>\n",
              "    </tr>\n",
              "    <tr>\n",
              "      <th>Southwest</th>\n",
              "      <td>61</td>\n",
              "    </tr>\n",
              "    <tr>\n",
              "      <th>US Airways</th>\n",
              "      <td>122</td>\n",
              "    </tr>\n",
              "    <tr>\n",
              "      <th>United</th>\n",
              "      <td>144</td>\n",
              "    </tr>\n",
              "    <tr>\n",
              "      <th>Virgin America</th>\n",
              "      <td>28</td>\n",
              "    </tr>\n",
              "    <tr>\n",
              "      <th rowspan=\"6\" valign=\"top\">Late Flight</th>\n",
              "      <th>American</th>\n",
              "      <td>249</td>\n",
              "    </tr>\n",
              "    <tr>\n",
              "      <th>Delta</th>\n",
              "      <td>269</td>\n",
              "    </tr>\n",
              "    <tr>\n",
              "      <th>Southwest</th>\n",
              "      <td>152</td>\n",
              "    </tr>\n",
              "    <tr>\n",
              "      <th>US Airways</th>\n",
              "      <td>453</td>\n",
              "    </tr>\n",
              "    <tr>\n",
              "      <th>United</th>\n",
              "      <td>525</td>\n",
              "    </tr>\n",
              "    <tr>\n",
              "      <th>Virgin America</th>\n",
              "      <td>17</td>\n",
              "    </tr>\n",
              "    <tr>\n",
              "      <th rowspan=\"6\" valign=\"top\">Lost Luggage</th>\n",
              "      <th>American</th>\n",
              "      <td>149</td>\n",
              "    </tr>\n",
              "    <tr>\n",
              "      <th>Delta</th>\n",
              "      <td>57</td>\n",
              "    </tr>\n",
              "    <tr>\n",
              "      <th>Southwest</th>\n",
              "      <td>90</td>\n",
              "    </tr>\n",
              "    <tr>\n",
              "      <th>US Airways</th>\n",
              "      <td>154</td>\n",
              "    </tr>\n",
              "    <tr>\n",
              "      <th>United</th>\n",
              "      <td>269</td>\n",
              "    </tr>\n",
              "    <tr>\n",
              "      <th>Virgin America</th>\n",
              "      <td>5</td>\n",
              "    </tr>\n",
              "    <tr>\n",
              "      <th rowspan=\"6\" valign=\"top\">longlines</th>\n",
              "      <th>American</th>\n",
              "      <td>34</td>\n",
              "    </tr>\n",
              "    <tr>\n",
              "      <th>Delta</th>\n",
              "      <td>14</td>\n",
              "    </tr>\n",
              "    <tr>\n",
              "      <th>Southwest</th>\n",
              "      <td>29</td>\n",
              "    </tr>\n",
              "    <tr>\n",
              "      <th>US Airways</th>\n",
              "      <td>50</td>\n",
              "    </tr>\n",
              "    <tr>\n",
              "      <th>United</th>\n",
              "      <td>48</td>\n",
              "    </tr>\n",
              "    <tr>\n",
              "      <th>Virgin America</th>\n",
              "      <td>3</td>\n",
              "    </tr>\n",
              "  </tbody>\n",
              "</table>\n",
              "</div>"
            ],
            "text/plain": [
              "airline_sentiment                           negative\n",
              "negativereason              airline                 \n",
              "Bad Flight                  American              87\n",
              "                            Delta                 64\n",
              "                            Southwest             90\n",
              "                            US Airways           104\n",
              "                            United               216\n",
              "                            Virgin America        19\n",
              "Can't Tell                  American             198\n",
              "                            Delta                186\n",
              "                            Southwest            159\n",
              "                            US Airways           246\n",
              "                            United               379\n",
              "                            Virgin America        22\n",
              "Cancelled Flight            American             246\n",
              "                            Delta                 51\n",
              "                            Southwest            162\n",
              "                            US Airways           189\n",
              "                            United               181\n",
              "                            Virgin America        18\n",
              "Customer Service Issue      American             768\n",
              "                            Delta                199\n",
              "                            Southwest            391\n",
              "                            US Airways           811\n",
              "                            United               681\n",
              "                            Virgin America        60\n",
              "Damaged Luggage             American              12\n",
              "                            Delta                 11\n",
              "                            Southwest             14\n",
              "                            US Airways            11\n",
              "                            United                22\n",
              "                            Virgin America         4\n",
              "Flight Attendant Complaints American              87\n",
              "                            Delta                 60\n",
              "                            Southwest             38\n",
              "                            US Airways           123\n",
              "                            United               168\n",
              "                            Virgin America         5\n",
              "Flight Booking Problems     American             130\n",
              "                            Delta                 44\n",
              "                            Southwest             61\n",
              "                            US Airways           122\n",
              "                            United               144\n",
              "                            Virgin America        28\n",
              "Late Flight                 American             249\n",
              "                            Delta                269\n",
              "                            Southwest            152\n",
              "                            US Airways           453\n",
              "                            United               525\n",
              "                            Virgin America        17\n",
              "Lost Luggage                American             149\n",
              "                            Delta                 57\n",
              "                            Southwest             90\n",
              "                            US Airways           154\n",
              "                            United               269\n",
              "                            Virgin America         5\n",
              "longlines                   American              34\n",
              "                            Delta                 14\n",
              "                            Southwest             29\n",
              "                            US Airways            50\n",
              "                            United                48\n",
              "                            Virgin America         3"
            ]
          },
          "metadata": {
            "tags": []
          },
          "execution_count": 8
        }
      ]
    },
    {
      "cell_type": "code",
      "metadata": {
        "id": "6I4zdOltSBEc",
        "colab_type": "code",
        "outputId": "fefbfe84-f9b2-442b-e836-9bd6c7fc48b7",
        "colab": {
          "base_uri": "https://localhost:8080/",
          "height": 257
        }
      },
      "source": [
        "#Cross Tab to understand the relation between the number of each category of sentiments for every airlines\n",
        "airlinesentiment=pd.crosstab(df['airline'], df['airline_sentiment'])\n",
        "airlinesentiment"
      ],
      "execution_count": 0,
      "outputs": [
        {
          "output_type": "execute_result",
          "data": {
            "text/html": [
              "<div>\n",
              "<style scoped>\n",
              "    .dataframe tbody tr th:only-of-type {\n",
              "        vertical-align: middle;\n",
              "    }\n",
              "\n",
              "    .dataframe tbody tr th {\n",
              "        vertical-align: top;\n",
              "    }\n",
              "\n",
              "    .dataframe thead th {\n",
              "        text-align: right;\n",
              "    }\n",
              "</style>\n",
              "<table border=\"1\" class=\"dataframe\">\n",
              "  <thead>\n",
              "    <tr style=\"text-align: right;\">\n",
              "      <th>airline_sentiment</th>\n",
              "      <th>negative</th>\n",
              "      <th>neutral</th>\n",
              "      <th>positive</th>\n",
              "    </tr>\n",
              "    <tr>\n",
              "      <th>airline</th>\n",
              "      <th></th>\n",
              "      <th></th>\n",
              "      <th></th>\n",
              "    </tr>\n",
              "  </thead>\n",
              "  <tbody>\n",
              "    <tr>\n",
              "      <th>American</th>\n",
              "      <td>1960</td>\n",
              "      <td>463</td>\n",
              "      <td>336</td>\n",
              "    </tr>\n",
              "    <tr>\n",
              "      <th>Delta</th>\n",
              "      <td>955</td>\n",
              "      <td>723</td>\n",
              "      <td>544</td>\n",
              "    </tr>\n",
              "    <tr>\n",
              "      <th>Southwest</th>\n",
              "      <td>1186</td>\n",
              "      <td>664</td>\n",
              "      <td>570</td>\n",
              "    </tr>\n",
              "    <tr>\n",
              "      <th>US Airways</th>\n",
              "      <td>2263</td>\n",
              "      <td>381</td>\n",
              "      <td>269</td>\n",
              "    </tr>\n",
              "    <tr>\n",
              "      <th>United</th>\n",
              "      <td>2633</td>\n",
              "      <td>697</td>\n",
              "      <td>492</td>\n",
              "    </tr>\n",
              "    <tr>\n",
              "      <th>Virgin America</th>\n",
              "      <td>181</td>\n",
              "      <td>171</td>\n",
              "      <td>152</td>\n",
              "    </tr>\n",
              "  </tbody>\n",
              "</table>\n",
              "</div>"
            ],
            "text/plain": [
              "airline_sentiment  negative  neutral  positive\n",
              "airline                                       \n",
              "American               1960      463       336\n",
              "Delta                   955      723       544\n",
              "Southwest              1186      664       570\n",
              "US Airways             2263      381       269\n",
              "United                 2633      697       492\n",
              "Virgin America          181      171       152"
            ]
          },
          "metadata": {
            "tags": []
          },
          "execution_count": 9
        }
      ]
    },
    {
      "cell_type": "code",
      "metadata": {
        "id": "6hq_v70cSDhH",
        "colab_type": "code",
        "outputId": "ceb69cb6-a51b-405d-89ab-b4c411175157",
        "colab": {
          "base_uri": "https://localhost:8080/",
          "height": 485
        }
      },
      "source": [
        "airlinesentiment.plot(kind='bar',figsize=(10, 6),stacked=True,title=\"Airline_Sentiment\")"
      ],
      "execution_count": 0,
      "outputs": [
        {
          "output_type": "execute_result",
          "data": {
            "text/plain": [
              "<matplotlib.axes._subplots.AxesSubplot at 0x7f3d1fb04e80>"
            ]
          },
          "metadata": {
            "tags": []
          },
          "execution_count": 10
        },
        {
          "output_type": "display_data",
          "data": {
            "image/png": "[encoded data removed]",
            "text/plain": [
              "<Figure size 720x432 with 1 Axes>"
            ]
          },
          "metadata": {
            "tags": []
          }
        }
      ]
    },
    {
      "cell_type": "markdown",
      "metadata": {
        "id": "47f3Mcw0SREy",
        "colab_type": "text"
      },
      "source": [
        " **Data  Cleaning**\n",
        "\n",
        "Data cleaning is performed on the dataset by removing the punctuations.  I tried changing all words to lower case and removing stopwords but it did not help in enhancing the accuracy. Also, it can be seen only two variables from data is useful that is airline_sentiment and text columns"
      ]
    },
    {
      "cell_type": "code",
      "metadata": {
        "id": "Eor44jEYSGAS",
        "colab_type": "code",
        "outputId": "9695a19c-8ae8-4969-d741-acc22e8b2311",
        "colab": {
          "base_uri": "https://localhost:8080/",
          "height": 123
        }
      },
      "source": [
        "def remove(text):\n",
        "  text_out=''.join([char for char in text if char not in string.punctuation])\n",
        "  return text_out\n",
        "\n",
        "# Taking only airline_sentiment and text columns for further analysis as these variables help in predicting the sentiments \n",
        "# This two columns are required for further analysis as can be concluded from above data visualizations\n",
        "\n",
        "datacsv = df[['airline_sentiment', 'text']]\n",
        "\n",
        "#datacsv['text'] = datacsv['text'].apply(lambda x: x.lower())\n",
        "datacsv['text'] = datacsv['text'].apply((lambda x: remove(x)))\n",
        "\n",
        "datacsv.to_csv('tweetsData.csv',index=False)\n"
      ],
      "execution_count": 0,
      "outputs": [
        {
          "output_type": "stream",
          "text": [
            "/usr/local/lib/python3.6/dist-packages/ipykernel_launcher.py:11: SettingWithCopyWarning: \n",
            "A value is trying to be set on a copy of a slice from a DataFrame.\n",
            "Try using .loc[row_indexer,col_indexer] = value instead\n",
            "\n",
            "See the caveats in the documentation: http://pandas.pydata.org/pandas-docs/stable/indexing.html#indexing-view-versus-copy\n",
            "  # This is added back by InteractiveShellApp.init_path()\n"
          ],
          "name": "stderr"
        }
      ]
    },
    {
      "cell_type": "markdown",
      "metadata": {
        "id": "4ZBzzsZTStLd",
        "colab_type": "text"
      },
      "source": [
        "**Splitting the data into train and test datasets**"
      ]
    },
    {
      "cell_type": "code",
      "metadata": {
        "id": "Dh3q8jSBSo8l",
        "colab_type": "code",
        "outputId": "c0e8f432-e076-423b-970c-ea303baef95c",
        "colab": {
          "base_uri": "https://localhost:8080/",
          "height": 87
        }
      },
      "source": [
        "\n",
        "#Splitting the data into 80% train and 20% test and using stratify to maintain the same proportion of the categorical target variable in the data partitions in order to improve the accuracy\n",
        "\n",
        "\n",
        "dfTrain, dfTest = train_test_split(datacsv, stratify=datacsv[['airline_sentiment']],test_size = 0.2, random_state = 123)\n",
        "\n",
        "#Converting the training and testing data samples into csv\n",
        "\n",
        "dfTrain.to_csv('tweetsTrain.csv', index=False)\n",
        "dfTest.to_csv('tweetsTest.csv', index=False)\n",
        "\n",
        "\n",
        "\n",
        "print(\"Number of entries in training data: \",len(dfTrain))\n",
        "print(\"Number of entries in testing data: \",len(dfTest))\n",
        "print(\"Shape of the samples in training dataset: \" ,dfTrain.shape)\n",
        "print(\"Shape of the samples in testing dataset: \" ,dfTest.shape)"
      ],
      "execution_count": 0,
      "outputs": [
        {
          "output_type": "stream",
          "text": [
            "Number of entries in training data:  11712\n",
            "Number of entries in testing data:  2928\n",
            "Shape of the samples in training dataset:  (11712, 2)\n",
            "Shape of the samples in testing dataset:  (2928, 2)\n"
          ],
          "name": "stdout"
        }
      ]
    },
    {
      "cell_type": "markdown",
      "metadata": {
        "id": "KFSHmdz-S7hD",
        "colab_type": "text"
      },
      "source": [
        "**Data Preprocessing** \n",
        "\n",
        "**Tokenization**\n",
        "The first step in pre-processing is Tokenization which means to split the raw sentences to words or tokens\n",
        "\n",
        "\n",
        "*   Take care of spaces\n",
        "*   Take care of Capital letters and add a special token for them\n"
      ]
    },
    {
      "cell_type": "code",
      "metadata": {
        "id": "DiyJx726TBGy",
        "colab_type": "code",
        "outputId": "70e1d9c9-1b75-4688-a426-d2db4f81648c",
        "colab": {
          "base_uri": "https://localhost:8080/",
          "height": 247
        }
      },
      "source": [
        "path=''\n",
        "data = TextClasDataBunch.from_csv(path, 'tweetsTrain.csv')\n",
        "data.show_batch()"
      ],
      "execution_count": 0,
      "outputs": [
        {
          "output_type": "display_data",
          "data": {
            "text/html": [
              "<table border=\"1\" class=\"dataframe\">\n",
              "  <thead>\n",
              "    <tr style=\"text-align: right;\">\n",
              "      <th>text</th>\n",
              "      <th>target</th>\n",
              "    </tr>\n",
              "  </thead>\n",
              "  <tbody>\n",
              "    <tr>\n",
              "      <td>xxbos usairways xxup fuk u xxup us xxup airways xxup with xxup yo xxup shitty xxup chicken xxup xxunk xxup sandwich xxup that xxup so xxup overpriced xxup and u xxup xxunk xxup make xxup me xxup wait xxup in a 6 xxup hr xxup layover xxup fuk u xxup and</td>\n",
              "      <td>negative</td>\n",
              "    </tr>\n",
              "    <tr>\n",
              "      <td>xxbos southwestair xxmaj the xxmaj fact xxmaj that u xxmaj see xxmaj black xxmaj history xxmaj month 12 xxmaj months a xxmaj year xxmaj is xxmaj xxunk xxmaj we xxup will xxup be xxmaj an xxmaj xxunk xxmaj base xxmaj for xxmaj corp xxmaj like u xxmaj in xxmaj future</td>\n",
              "      <td>positive</td>\n",
              "    </tr>\n",
              "    <tr>\n",
              "      <td>xxbos united i xxup just xxup asked xxup my xxup boyfriend xxup to xxup prom xxup over xxup the xxup xxunk xxup on xxup flight 494 xxup he xxup said xxup yes xxup best xxup day xxup ever xxup thank u xxup so xxup much</td>\n",
              "      <td>positive</td>\n",
              "    </tr>\n",
              "    <tr>\n",
              "      <td>xxbos united xxmaj she 👏 wo nt 👏 be 👏 at 👏 my 👏 wedding 👏 xxmaj this is an xxunk xxunk xxmaj there s no reflight xxmaj booking xxmaj problems xxmaj how can we be xxunk for this</td>\n",
              "      <td>negative</td>\n",
              "    </tr>\n",
              "    <tr>\n",
              "      <td>xxbos usairways not happy w app xxmaj late xxmaj flightly xxmaj last time i flew would nt let me check in xxmaj this time i checked in went on xxmaj late xxmaj flightr says i never checked in</td>\n",
              "      <td>negative</td>\n",
              "    </tr>\n",
              "  </tbody>\n",
              "</table>"
            ],
            "text/plain": [
              "<IPython.core.display.HTML object>"
            ]
          },
          "metadata": {
            "tags": []
          }
        }
      ]
    },
    {
      "cell_type": "markdown",
      "metadata": {
        "id": "PccJF1LSTGqV",
        "colab_type": "text"
      },
      "source": [
        "As observed above the words are split on space. The special tokens (starting with xx) which replaces the unknown token are further converted to integers in Numericalization. Normally the special tokens are replacing the words written in capital form. This balances capturing semantic meaning with reducing the number of overall tokens — so it is both powerful and efficient.\n",
        "\n",
        "**Numericalization**\n",
        "\n",
        "After extracting tokens, we convert it to integers by creating a llist of all the words used in the data The correspondance from ids to tokens is stored in the vocab attribute in itos dictionary (for int to string)."
      ]
    },
    {
      "cell_type": "code",
      "metadata": {
        "id": "L8T9A2JPTBDf",
        "colab_type": "code",
        "outputId": "f9902ed4-eecb-4cf8-b687-a03ef896bc94",
        "colab": {
          "base_uri": "https://localhost:8080/",
          "height": 372
        }
      },
      "source": [
        "#Visualizing the tokens from the tokenized list\n",
        "data.vocab.itos[:20]"
      ],
      "execution_count": 0,
      "outputs": [
        {
          "output_type": "execute_result",
          "data": {
            "text/plain": [
              "['xxunk',\n",
              " 'xxpad',\n",
              " 'xxbos',\n",
              " 'xxeos',\n",
              " 'xxfld',\n",
              " 'xxmaj',\n",
              " 'xxup',\n",
              " 'xxrep',\n",
              " 'xxwrep',\n",
              " 'to',\n",
              " 'i',\n",
              " 'the',\n",
              " 'a',\n",
              " 'you',\n",
              " 'united',\n",
              " 'for',\n",
              " 'flight',\n",
              " 'on',\n",
              " 'and',\n",
              " 'my']"
            ]
          },
          "metadata": {
            "tags": []
          },
          "execution_count": 19
        }
      ]
    },
    {
      "cell_type": "code",
      "metadata": {
        "id": "8kM8sQdFTpTW",
        "colab_type": "code",
        "outputId": "ca7e4f12-b1ae-4d33-e635-976112ecd958",
        "colab": {
          "base_uri": "https://localhost:8080/",
          "height": 70
        }
      },
      "source": [
        "print(data.train_ds[0][0])\n",
        "print(data.train_ds[1][0])\n",
        "print(data.train_ds[2][0])"
      ],
      "execution_count": 0,
      "outputs": [
        {
          "output_type": "stream",
          "text": [
            "xxbos southwestair xxmaj your xxmaj terry is our hero xxmaj got my husband back thru security to retrieve his cellphone in xxmaj austin xxmaj terry 85832 xxmaj you xxmaj rock\n",
            "xxbos americanair xxmaj we ve 15 official complaints signed by americanairlines xxmaj lima supervisor xxmaj customer xxmaj relations pls compensate 4 the xxunk delay\n",
            "xxbos united thanks for having no one to pilot my last two flights and all but stranding me in xxmaj houston tonight xxmaj airlines are the absolute worst\n"
          ],
          "name": "stdout"
        }
      ]
    },
    {
      "cell_type": "code",
      "metadata": {
        "id": "ym9E5YPtTpP9",
        "colab_type": "code",
        "outputId": "f521a037-e300-453d-ac87-50773164d0dd",
        "colab": {
          "base_uri": "https://localhost:8080/",
          "height": 70
        }
      },
      "source": [
        "#converting the words to integers\n",
        "print(data.train_ds[0][0].data[:10])\n",
        "print(data.train_ds[1][0].data[:10])\n",
        "print(data.train_ds[2][0].data[:10])"
      ],
      "execution_count": 0,
      "outputs": [
        {
          "output_type": "stream",
          "text": [
            "[   2   24    5   33    5 2360   22   63 2815    5]\n",
            "[   2   21    5   46  100  327 1686  847 2082  112]\n",
            "[  2  14  47  15 371  37  83   9 328  19]\n"
          ],
          "name": "stdout"
        }
      ]
    },
    {
      "cell_type": "markdown",
      "metadata": {
        "id": "yENJBbknTx3F",
        "colab_type": "text"
      },
      "source": [
        "The tokenization and numericalization is done by the TextLMDataBunch and TextClassDataBunch from fastai package respectively internally. The tokenization of fastai captures semantic menaing from the data. It does not change the words to lowercase or removes stopwords(which is seen till now). This is because it would result in loss of data and would not help the model to understand the new task's vocabulary"
      ]
    },
    {
      "cell_type": "markdown",
      "metadata": {
        "id": "FrQ22OJXVywK",
        "colab_type": "text"
      },
      "source": [
        "**Method:** Universal Language Model Fine-tuning for Text Classification or ULMFiT model. ULMFiT utilizes LSTM which is the state-of-the-art language model architecture (AWD-LSTM).\n",
        "\n",
        "There are three stages in ULMFiT model are for Transfer Learning–\n",
        "\n",
        "\n",
        "\n",
        "*   General domain language model pre-training\n",
        "*   Target task language model fine-tuning\n",
        "\n",
        "*   Target task classifier fine-tuning\n",
        "\n",
        "Mainly, the objective here is to fine tune a pre-trained model and use (or transfer) it for text classification task for new dataset (in this case Tweets.csv)\n",
        "\n",
        "**General domain language model pre-training**"
      ]
    },
    {
      "cell_type": "code",
      "metadata": {
        "id": "4rv4SD52SxyI",
        "colab_type": "code",
        "outputId": "e1ee20b7-3fdb-469a-a97e-537316e4cf8f",
        "colab": {
          "base_uri": "https://localhost:8080/",
          "height": 281
        }
      },
      "source": [
        "#Language model data using the training sample csv \n",
        "path=''\n",
        "\n",
        "#Fetching data for training the language model from csv and increasing the bacth size from my last submission in order to improve accuracy\n",
        "data_lm = TextLMDataBunch.from_csv(path, 'tweetsTrain.csv', bs=128)\n",
        "\n",
        "\n",
        "#If we want to save the text bunch to a file at the given path so that, next time data bunch process does not take much time\n",
        "data_lm.save('data_lm.pkl')\n",
        "data_lm=load_data(path,'data_lm.pkl')\n",
        "data_lm.show_batch()"
      ],
      "execution_count": 0,
      "outputs": [
        {
          "output_type": "display_data",
          "data": {
            "text/html": [
              "<table border=\"1\" class=\"dataframe\">\n",
              "  <thead>\n",
              "    <tr style=\"text-align: right;\">\n",
              "      <th>idx</th>\n",
              "      <th>text</th>\n",
              "    </tr>\n",
              "  </thead>\n",
              "  <tbody>\n",
              "    <tr>\n",
              "      <td>0</td>\n",
              "      <td>i m on standby for my connecting flight 1st on the list xxunk i m told there are four slots open xxmaj save it for me xxmaj please xxbos usairways yesterday we were delayed for xxup six hours xxunk to xxup no explanation we paid xxup lots of 2 fly wu amp this is how u treat ur customers xxbos usairways i was completely ripped of by xxup us xxmaj</td>\n",
              "    </tr>\n",
              "    <tr>\n",
              "      <td>1</td>\n",
              "      <td>xxmaj charlotte was xxmaj cancelled xxmaj flightled xxmaj now 5534 is on 1hr delay xxbos united i was sincerely xxunk the pilot of flight xxunk of xxunk the snow and getting me home amongst many other xxmaj cancelled xxmaj flightlations xxbos southwestair no thanks i think we have it straight xxbos usairways xxunk my patience this evening or shall i say morning xxmaj we waited an hour at the gate</td>\n",
              "    </tr>\n",
              "    <tr>\n",
              "      <td>2</td>\n",
              "      <td>xxunk since my xxunk from xxup dca to xxup msy was xxmaj cancelled xxmaj flightled still trying to get out xxmaj on hold now 50min xxrep 4 s xxbos americanair xxmaj ok xxmaj we will probably xxmaj cancelled xxmaj flight our flights then take a refund and get home another way xxmaj wednesday wo nt work for us xxbos jetblue thx for confirming xxmaj again yr team is awesome xxmaj</td>\n",
              "    </tr>\n",
              "    <tr>\n",
              "      <td>3</td>\n",
              "      <td>fly xxmaj southwest to xxmaj vegas 😩 😭 xxbos southwestair from xxup lga to xxmaj san xxmaj diego xxbos americanair no vouchers 4 xxmaj cancelled xxmaj flighted flight due 2 weather xxmaj todays issue broken tire xxmaj no vouchers cause tire was broken by weather xxunk xxbos jetblue the amount of money i spent on hotels for a xxup week bc of flight xxmaj cancelled xxmaj flightlation another flight does</td>\n",
              "    </tr>\n",
              "    <tr>\n",
              "      <td>4</td>\n",
              "      <td>usairways xxmaj mad love httptco4ojrsdwpkk xxup nyc xxbos americanair v nice of you to give me a breakfast voucher for 7 in an airport xxmaj that almost got me a whole drink xxbos jetblue i will try that xxmaj thanks xxmaj if all else fails i will just do the old xxunk method tomorrow morning xxbos americanair xxunk xxmaj if you updated the screens then people would know the xxmaj</td>\n",
              "    </tr>\n",
              "  </tbody>\n",
              "</table>"
            ],
            "text/plain": [
              "<IPython.core.display.HTML object>"
            ]
          },
          "metadata": {
            "tags": []
          }
        }
      ]
    },
    {
      "cell_type": "markdown",
      "metadata": {
        "id": "DCf3kqrPVL5O",
        "colab_type": "text"
      },
      "source": [
        "The pre-processing is done for the dataset internally when we use TextLMDataBunch module from fastai package. This data pre-processing which is done iternally can be shown as follows:"
      ]
    },
    {
      "cell_type": "code",
      "metadata": {
        "id": "ob8LyAXPS0XK",
        "colab_type": "code",
        "outputId": "0866359f-9a1a-4169-8b82-7eff278b0235",
        "colab": {
          "base_uri": "https://localhost:8080/",
          "height": 497
        }
      },
      "source": [
        "x,y = next(iter(data_lm.train_dl))\n",
        "example = x[:15,:15].cpu()\n",
        "texts = pd.DataFrame([data_lm.train_ds.vocab.textify(l).split(' ') for l in example])\n",
        "texts"
      ],
      "execution_count": 0,
      "outputs": [
        {
          "output_type": "execute_result",
          "data": {
            "text/html": [
              "<div>\n",
              "<style scoped>\n",
              "    .dataframe tbody tr th:only-of-type {\n",
              "        vertical-align: middle;\n",
              "    }\n",
              "\n",
              "    .dataframe tbody tr th {\n",
              "        vertical-align: top;\n",
              "    }\n",
              "\n",
              "    .dataframe thead th {\n",
              "        text-align: right;\n",
              "    }\n",
              "</style>\n",
              "<table border=\"1\" class=\"dataframe\">\n",
              "  <thead>\n",
              "    <tr style=\"text-align: right;\">\n",
              "      <th></th>\n",
              "      <th>0</th>\n",
              "      <th>1</th>\n",
              "      <th>2</th>\n",
              "      <th>3</th>\n",
              "      <th>4</th>\n",
              "      <th>5</th>\n",
              "      <th>6</th>\n",
              "      <th>7</th>\n",
              "      <th>8</th>\n",
              "      <th>9</th>\n",
              "      <th>10</th>\n",
              "      <th>11</th>\n",
              "      <th>12</th>\n",
              "      <th>13</th>\n",
              "      <th>14</th>\n",
              "    </tr>\n",
              "  </thead>\n",
              "  <tbody>\n",
              "    <tr>\n",
              "      <th>0</th>\n",
              "      <td>airways</td>\n",
              "      <td>today</td>\n",
              "      <td>never</td>\n",
              "      <td>fly</td>\n",
              "      <td>this</td>\n",
              "      <td>airline</td>\n",
              "      <td>i</td>\n",
              "      <td>am</td>\n",
              "      <td>contacting</td>\n",
              "      <td>my</td>\n",
              "      <td>local</td>\n",
              "      <td>news</td>\n",
              "      <td>xxbos</td>\n",
              "      <td>americanair</td>\n",
              "      <td>spent</td>\n",
              "    </tr>\n",
              "    <tr>\n",
              "      <th>1</th>\n",
              "      <td>for</td>\n",
              "      <td>you</td>\n",
              "      <td>to</td>\n",
              "      <td>find</td>\n",
              "      <td>a</td>\n",
              "      <td>gate</td>\n",
              "      <td>agent</td>\n",
              "      <td>xxunk</td>\n",
              "      <td>xxbos</td>\n",
              "      <td>united</td>\n",
              "      <td>the</td>\n",
              "      <td>passengers</td>\n",
              "      <td>waited</td>\n",
              "      <td>inside</td>\n",
              "      <td>the</td>\n",
              "    </tr>\n",
              "    <tr>\n",
              "      <th>2</th>\n",
              "      <td>thanks</td>\n",
              "      <td>for</td>\n",
              "      <td>the</td>\n",
              "      <td>prompt</td>\n",
              "      <td>amp</td>\n",
              "      <td>helpful</td>\n",
              "      <td>response</td>\n",
              "      <td>xxmaj</td>\n",
              "      <td>cheers</td>\n",
              "      <td>to</td>\n",
              "      <td>less</td>\n",
              "      <td>snow</td>\n",
              "      <td>in</td>\n",
              "      <td>everyones</td>\n",
              "      <td>future</td>\n",
              "    </tr>\n",
              "    <tr>\n",
              "      <th>3</th>\n",
              "      <td>nt</td>\n",
              "      <td>make</td>\n",
              "      <td>up</td>\n",
              "      <td>for</td>\n",
              "      <td>the</td>\n",
              "      <td>money</td>\n",
              "      <td>lost</td>\n",
              "      <td>xxbos</td>\n",
              "      <td>xxup</td>\n",
              "      <td>lmao</td>\n",
              "      <td>“</td>\n",
              "      <td>jetblue</td>\n",
              "      <td>xxmaj</td>\n",
              "      <td>our</td>\n",
              "      <td>fleets</td>\n",
              "    </tr>\n",
              "    <tr>\n",
              "      <th>4</th>\n",
              "      <td>late</td>\n",
              "      <td>xxmaj</td>\n",
              "      <td>flightst</td>\n",
              "      <td>info</td>\n",
              "      <td>good</td>\n",
              "      <td>or</td>\n",
              "      <td>bad</td>\n",
              "      <td>xxmaj</td>\n",
              "      <td>and</td>\n",
              "      <td>that</td>\n",
              "      <td>would</td>\n",
              "      <td>nt</td>\n",
              "      <td>work</td>\n",
              "      <td>because</td>\n",
              "      <td>xxbos</td>\n",
              "    </tr>\n",
              "    <tr>\n",
              "      <th>5</th>\n",
              "      <td>even</td>\n",
              "      <td>get</td>\n",
              "      <td>on</td>\n",
              "      <td>xxunk</td>\n",
              "      <td>you</td>\n",
              "      <td>help</td>\n",
              "      <td>me</td>\n",
              "      <td>xxbos</td>\n",
              "      <td>usairways</td>\n",
              "      <td>merging</td>\n",
              "      <td>with</td>\n",
              "      <td>xxmaj</td>\n",
              "      <td>american</td>\n",
              "      <td>will</td>\n",
              "      <td>xxunk</td>\n",
              "    </tr>\n",
              "    <tr>\n",
              "      <th>6</th>\n",
              "      <td>xxunk</td>\n",
              "      <td>xxbos</td>\n",
              "      <td>americanair</td>\n",
              "      <td>flight</td>\n",
              "      <td>veers</td>\n",
              "      <td>off</td>\n",
              "      <td>icy</td>\n",
              "      <td>runway</td>\n",
              "      <td>at</td>\n",
              "      <td>dfwairport</td>\n",
              "      <td>xxmaj</td>\n",
              "      <td>most</td>\n",
              "      <td>xxup</td>\n",
              "      <td>dfw</td>\n",
              "      <td>flights</td>\n",
              "    </tr>\n",
              "    <tr>\n",
              "      <th>7</th>\n",
              "      <td>just</td>\n",
              "      <td>spoke</td>\n",
              "      <td>with</td>\n",
              "      <td>a</td>\n",
              "      <td>representative</td>\n",
              "      <td>xxmaj</td>\n",
              "      <td>moved</td>\n",
              "      <td>my</td>\n",
              "      <td>flight</td>\n",
              "      <td>earlier</td>\n",
              "      <td>xxmaj</td>\n",
              "      <td>thank</td>\n",
              "      <td>you</td>\n",
              "      <td>so</td>\n",
              "      <td>much</td>\n",
              "    </tr>\n",
              "    <tr>\n",
              "      <th>8</th>\n",
              "      <td>xxbos</td>\n",
              "      <td>usairways</td>\n",
              "      <td>not</td>\n",
              "      <td>impressed</td>\n",
              "      <td>with</td>\n",
              "      <td>your</td>\n",
              "      <td>customer</td>\n",
              "      <td>service</td>\n",
              "      <td>everyone</td>\n",
              "      <td>has</td>\n",
              "      <td>been</td>\n",
              "      <td>unhelpful</td>\n",
              "      <td>and</td>\n",
              "      <td>incredibly</td>\n",
              "      <td>rude</td>\n",
              "    </tr>\n",
              "    <tr>\n",
              "      <th>9</th>\n",
              "      <td>xxmaj</td>\n",
              "      <td>decisions</td>\n",
              "      <td>xxunk</td>\n",
              "      <td>united</td>\n",
              "      <td>xxmaj</td>\n",
              "      <td>we</td>\n",
              "      <td>d</td>\n",
              "      <td>love</td>\n",
              "      <td>for</td>\n",
              "      <td>you</td>\n",
              "      <td>to</td>\n",
              "      <td>try</td>\n",
              "      <td>our</td>\n",
              "      <td>service</td>\n",
              "      <td>xxmaj</td>\n",
              "    </tr>\n",
              "    <tr>\n",
              "      <th>10</th>\n",
              "      <td>me</td>\n",
              "      <td>to</td>\n",
              "      <td>the</td>\n",
              "      <td>location</td>\n",
              "      <td>i</td>\n",
              "      <td>paid</td>\n",
              "      <td>to</td>\n",
              "      <td>get</td>\n",
              "      <td>to</td>\n",
              "      <td>and</td>\n",
              "      <td>now</td>\n",
              "      <td>xxbos</td>\n",
              "      <td>united</td>\n",
              "      <td>what</td>\n",
              "      <td>you</td>\n",
              "    </tr>\n",
              "    <tr>\n",
              "      <th>11</th>\n",
              "      <td>ewr</td>\n",
              "      <td>xxmaj</td>\n",
              "      <td>road</td>\n",
              "      <td>conditions</td>\n",
              "      <td>are</td>\n",
              "      <td>horrible</td>\n",
              "      <td>trying</td>\n",
              "      <td>to</td>\n",
              "      <td>get</td>\n",
              "      <td>to</td>\n",
              "      <td>flight</td>\n",
              "      <td>xxbos</td>\n",
              "      <td>americanair</td>\n",
              "      <td>xxmaj</td>\n",
              "      <td>was</td>\n",
              "    </tr>\n",
              "    <tr>\n",
              "      <th>12</th>\n",
              "      <td>been</td>\n",
              "      <td>trying</td>\n",
              "      <td>to</td>\n",
              "      <td>speak</td>\n",
              "      <td>to</td>\n",
              "      <td>agent</td>\n",
              "      <td>for</td>\n",
              "      <td>24hrs</td>\n",
              "      <td>about</td>\n",
              "      <td>my</td>\n",
              "      <td>xxmaj</td>\n",
              "      <td>cancelled</td>\n",
              "      <td>xxmaj</td>\n",
              "      <td>flightled</td>\n",
              "      <td>flight</td>\n",
              "    </tr>\n",
              "    <tr>\n",
              "      <th>13</th>\n",
              "      <td>xxup</td>\n",
              "      <td>ord</td>\n",
              "      <td>was</td>\n",
              "      <td>on</td>\n",
              "      <td>the</td>\n",
              "      <td>exact</td>\n",
              "      <td>same</td>\n",
              "      <td>plane</td>\n",
              "      <td>again</td>\n",
              "      <td>xxmaj</td>\n",
              "      <td>checked</td>\n",
              "      <td>carryon</td>\n",
              "      <td>was</td>\n",
              "      <td>apparently</td>\n",
              "      <td>taken</td>\n",
              "    </tr>\n",
              "    <tr>\n",
              "      <th>14</th>\n",
              "      <td>xxmaj</td>\n",
              "      <td>late</td>\n",
              "      <td>xxmaj</td>\n",
              "      <td>flight</td>\n",
              "      <td>flight</td>\n",
              "      <td>from</td>\n",
              "      <td>xxmaj</td>\n",
              "      <td>grand</td>\n",
              "      <td>xxmaj</td>\n",
              "      <td>xxunk</td>\n",
              "      <td>to</td>\n",
              "      <td>xxmaj</td>\n",
              "      <td>denver</td>\n",
              "      <td>xxbos</td>\n",
              "      <td>united</td>\n",
              "    </tr>\n",
              "  </tbody>\n",
              "</table>\n",
              "</div>"
            ],
            "text/plain": [
              "         0          1            2   ...           12           13       14\n",
              "0   airways      today        never  ...        xxbos  americanair    spent\n",
              "1       for        you           to  ...       waited       inside      the\n",
              "2    thanks        for          the  ...           in    everyones   future\n",
              "3        nt       make           up  ...        xxmaj          our   fleets\n",
              "4      late      xxmaj     flightst  ...         work      because    xxbos\n",
              "5      even        get           on  ...     american         will    xxunk\n",
              "6     xxunk      xxbos  americanair  ...         xxup          dfw  flights\n",
              "7      just      spoke         with  ...          you           so     much\n",
              "8     xxbos  usairways          not  ...          and   incredibly     rude\n",
              "9     xxmaj  decisions        xxunk  ...          our      service    xxmaj\n",
              "10       me         to          the  ...       united         what      you\n",
              "11      ewr      xxmaj         road  ...  americanair        xxmaj      was\n",
              "12     been     trying           to  ...        xxmaj    flightled   flight\n",
              "13     xxup        ord          was  ...          was   apparently    taken\n",
              "14    xxmaj       late        xxmaj  ...       denver        xxbos   united\n",
              "\n",
              "[15 rows x 15 columns]"
            ]
          },
          "metadata": {
            "tags": []
          },
          "execution_count": 23
        }
      ]
    },
    {
      "cell_type": "markdown",
      "metadata": {
        "id": "YAuZEyctVau1",
        "colab_type": "text"
      },
      "source": [
        "This pre-processed data is then passed to the Language Model to train the model. The model is not trained from scratch with the sentiments and texts of this dataset but use a pretrained model on bigger dataset(wikitext-103). That model has been trained to guess what the next word will be as all the previous words are its input. It has a recurrent structure and a hidden state which when sees a new word, gets updated everytime."
      ]
    },
    {
      "cell_type": "markdown",
      "metadata": {
        "id": "ScXP9LgBWLTC",
        "colab_type": "text"
      },
      "source": [
        "**Target task language model fine-tuning**\n",
        "\n",
        "As the English of the reviews left by people on tweets would not be similar to English of wikipedia, there needs adjustment in the parameters of pre-trained model. Also, some slang words and language words which would not be a part of wikipedia could be a part of tweets so the vocab the model was trained would not be entirely same. So, Fine-Tuning of the parameters of pre-trained model needs to be done to get efficient results on our dataset"
      ]
    },
    {
      "cell_type": "code",
      "metadata": {
        "id": "iVUEEjWyVSQV",
        "colab_type": "code",
        "colab": {}
      },
      "source": [
        "#Taking AWD_LSTM for the pretrained model and using the data obtained from the TextLMDataBunch to fine tune the learner\n",
        "learn = language_model_learner(data_lm, AWD_LSTM, drop_mult=0.3)"
      ],
      "execution_count": 0,
      "outputs": []
    },
    {
      "cell_type": "markdown",
      "metadata": {
        "id": "lUQgbNS2XSMe",
        "colab_type": "text"
      },
      "source": [
        "**Find the optimum learning rate for the model**\n",
        "\n",
        "The objective is that the optimization function needs to use a learning rate that is at least an order of magnitude below the point at which the loss starts to diverge."
      ]
    },
    {
      "cell_type": "code",
      "metadata": {
        "id": "b55znUP8Wtg8",
        "colab_type": "code",
        "outputId": "58474c8c-1ec2-455d-b572-06c0f5690d69",
        "colab": {
          "base_uri": "https://localhost:8080/",
          "height": 335
        }
      },
      "source": [
        "learn.lr_find()\n",
        "learn.recorder.plot(suggestion=True)"
      ],
      "execution_count": 0,
      "outputs": [
        {
          "output_type": "display_data",
          "data": {
            "text/html": [
              ""
            ],
            "text/plain": [
              "<IPython.core.display.HTML object>"
            ]
          },
          "metadata": {
            "tags": []
          }
        },
        {
          "output_type": "stream",
          "text": [
            "LR Finder is complete, type {learner_name}.recorder.plot() to see the graph.\n",
            "Min numerical gradient: 3.31E-02\n",
            "Min loss divided by 10: 6.31E-02\n"
          ],
          "name": "stdout"
        },
        {
          "output_type": "display_data",
          "data": {
            "image/png": "[encoded data removed]",
            "text/plain": [
              "<Figure size 432x288 with 1 Axes>"
            ]
          },
          "metadata": {
            "tags": []
          }
        }
      ]
    },
    {
      "cell_type": "code",
      "metadata": {
        "id": "g9XhW4hdXAXh",
        "colab_type": "code",
        "outputId": "faaadbd9-fa6a-4bea-baf3-0a27daf597db",
        "colab": {
          "base_uri": "https://localhost:8080/",
          "height": 77
        }
      },
      "source": [
        "\n",
        "# Fitting the model without unfreezing any layers\n",
        "learn.fit_one_cycle(1,1e-3, wd = 1e-7)"
      ],
      "execution_count": 0,
      "outputs": [
        {
          "output_type": "display_data",
          "data": {
            "text/html": [
              "<table border=\"1\" class=\"dataframe\">\n",
              "  <thead>\n",
              "    <tr style=\"text-align: left;\">\n",
              "      <th>epoch</th>\n",
              "      <th>train_loss</th>\n",
              "      <th>valid_loss</th>\n",
              "      <th>accuracy</th>\n",
              "      <th>time</th>\n",
              "    </tr>\n",
              "  </thead>\n",
              "  <tbody>\n",
              "    <tr>\n",
              "      <td>0</td>\n",
              "      <td>6.480605</td>\n",
              "      <td>6.109169</td>\n",
              "      <td>0.130114</td>\n",
              "      <td>00:16</td>\n",
              "    </tr>\n",
              "  </tbody>\n",
              "</table>"
            ],
            "text/plain": [
              "<IPython.core.display.HTML object>"
            ]
          },
          "metadata": {
            "tags": []
          }
        }
      ]
    },
    {
      "cell_type": "code",
      "metadata": {
        "id": "IPVS9rwFESAr",
        "colab_type": "code",
        "outputId": "eea4fe74-fc69-4d87-b7d0-cf53bfec8313",
        "colab": {
          "base_uri": "https://localhost:8080/",
          "height": 77
        }
      },
      "source": [
        "#Unfreezing the last layer of model\n",
        "learn.freeze_to(-1) \n",
        "learn.fit_one_cycle(1,1e-3, wd = 1e-7)"
      ],
      "execution_count": 0,
      "outputs": [
        {
          "output_type": "display_data",
          "data": {
            "text/html": [
              "<table border=\"1\" class=\"dataframe\">\n",
              "  <thead>\n",
              "    <tr style=\"text-align: left;\">\n",
              "      <th>epoch</th>\n",
              "      <th>train_loss</th>\n",
              "      <th>valid_loss</th>\n",
              "      <th>accuracy</th>\n",
              "      <th>time</th>\n",
              "    </tr>\n",
              "  </thead>\n",
              "  <tbody>\n",
              "    <tr>\n",
              "      <td>0</td>\n",
              "      <td>6.009564</td>\n",
              "      <td>5.685253</td>\n",
              "      <td>0.140889</td>\n",
              "      <td>00:16</td>\n",
              "    </tr>\n",
              "  </tbody>\n",
              "</table>"
            ],
            "text/plain": [
              "<IPython.core.display.HTML object>"
            ]
          },
          "metadata": {
            "tags": []
          }
        }
      ]
    },
    {
      "cell_type": "code",
      "metadata": {
        "id": "0NYDT_QgXodx",
        "colab_type": "code",
        "outputId": "2e3e4b4a-8300-4081-c0c4-f9825ebd0491",
        "colab": {
          "base_uri": "https://localhost:8080/",
          "height": 300
        }
      },
      "source": [
        "#Unfreezing all the layers of the model \n",
        "learn.unfreeze()\n",
        "\n",
        "\n",
        "# To find optimal learning rate after unfreezing the layers of model\n",
        "learn.lr_find()\n",
        "learn.recorder.plot()"
      ],
      "execution_count": 0,
      "outputs": [
        {
          "output_type": "display_data",
          "data": {
            "text/html": [
              ""
            ],
            "text/plain": [
              "<IPython.core.display.HTML object>"
            ]
          },
          "metadata": {
            "tags": []
          }
        },
        {
          "output_type": "stream",
          "text": [
            "LR Finder is complete, type {learner_name}.recorder.plot() to see the graph.\n"
          ],
          "name": "stdout"
        },
        {
          "output_type": "display_data",
          "data": {
            "image/png": "[encoded data removed]",
            "text/plain": [
              "<Figure size 432x288 with 1 Axes>"
            ]
          },
          "metadata": {
            "tags": []
          }
        }
      ]
    },
    {
      "cell_type": "markdown",
      "metadata": {
        "id": "R-aBTgMTX_r6",
        "colab_type": "text"
      },
      "source": [
        "**Discriminative Fine-Tuning**\n",
        "As AWD_LSTM consists of three layers, it is capable of capturing different types of information at every level, starting with general information on the first one and growing more and more specific on every further layer.\n",
        "In the textual data context, the first layer might catch information like basic sentence structure, while the next ones dig deeper, such as the workings of different tenses.\n",
        "\n",
        "Starting with a small LR in the first LSTM, it increases through the layers due to the increasing amount of acquired knowledge and information complexity. Here, a numpy array is defined which exponentially increases LRs, starting with the smallest one for the first LSTM."
      ]
    },
    {
      "cell_type": "code",
      "metadata": {
        "id": "3nxz-bL6X9hm",
        "colab_type": "code",
        "outputId": "50b87b8f-b1ae-4fe9-bdb9-6ff3455da9f0",
        "colab": {
          "base_uri": "https://localhost:8080/",
          "height": 137
        }
      },
      "source": [
        "#Optimal learning rate which can be observed above\n",
        "lr  = 1e-2\n",
        "\n",
        "# set discriminative learning rate\n",
        "dlr= 2.6\n",
        "\n",
        "#Defining a numpy array for the different layers starting with small value and then exponentially increasing\n",
        "olr = np.array([lr/(dlr**3), lr/(dlr**2), lr/dlr, lr])\n",
        "\n",
        "#fit with one cycle length, 3 epochs and weight decay 1e-7\n",
        "learn.fit_one_cycle(3,olr,wd=1e-7)"
      ],
      "execution_count": 0,
      "outputs": [
        {
          "output_type": "display_data",
          "data": {
            "text/html": [
              "<table border=\"1\" class=\"dataframe\">\n",
              "  <thead>\n",
              "    <tr style=\"text-align: left;\">\n",
              "      <th>epoch</th>\n",
              "      <th>train_loss</th>\n",
              "      <th>valid_loss</th>\n",
              "      <th>accuracy</th>\n",
              "      <th>time</th>\n",
              "    </tr>\n",
              "  </thead>\n",
              "  <tbody>\n",
              "    <tr>\n",
              "      <td>0</td>\n",
              "      <td>4.744658</td>\n",
              "      <td>4.114628</td>\n",
              "      <td>0.232366</td>\n",
              "      <td>00:21</td>\n",
              "    </tr>\n",
              "    <tr>\n",
              "      <td>1</td>\n",
              "      <td>4.178636</td>\n",
              "      <td>3.944410</td>\n",
              "      <td>0.248661</td>\n",
              "      <td>00:21</td>\n",
              "    </tr>\n",
              "    <tr>\n",
              "      <td>2</td>\n",
              "      <td>3.736148</td>\n",
              "      <td>3.939382</td>\n",
              "      <td>0.251055</td>\n",
              "      <td>00:21</td>\n",
              "    </tr>\n",
              "  </tbody>\n",
              "</table>"
            ],
            "text/plain": [
              "<IPython.core.display.HTML object>"
            ]
          },
          "metadata": {
            "tags": []
          }
        }
      ]
    },
    {
      "cell_type": "code",
      "metadata": {
        "id": "pzgbJKlmYjn3",
        "colab_type": "code",
        "colab": {}
      },
      "source": [
        "# Saving learner for further training, analysis and to load the weights\n",
        "learn.save('languagemodel')\n",
        "# Saving encoder for further analysis\n",
        "learn.save_encoder('fine_tune_enc')\n"
      ],
      "execution_count": 0,
      "outputs": []
    },
    {
      "cell_type": "code",
      "metadata": {
        "id": "rjT0Z3IPZjXZ",
        "colab_type": "code",
        "outputId": "da45184e-eecf-4119-8547-d144c7e89a80",
        "colab": {
          "base_uri": "https://localhost:8080/",
          "height": 70
        }
      },
      "source": [
        "# To evaluate the model so far\n",
        "# We will  give a model a set of words to see what it learned from the data and print 5 lines of 30 words having those words\n",
        "for i in range (3):\n",
        "  print(learn.predict('Terrible Airline',n_words=30))"
      ],
      "execution_count": 0,
      "outputs": [
        {
          "output_type": "stream",
          "text": [
            "Terrible Airline Ever xxbos americanair Waiting for a gate to be delivered to Dallas She prepared 6 hours for the flight Date of 1 am 😥 yeah\n",
            "Terrible Airline xxbos usairways Doubt it to be 70 chance to get stand by seat on a domestic flight Have usairways DM when am i really in touch with\n",
            "Terrible Airline cont Our a Day RDU travels with you many other delays that i should be ashamed xxbos jetblue Flight flightno tomorrow to GRR Dfw\n"
          ],
          "name": "stdout"
        }
      ]
    },
    {
      "cell_type": "markdown",
      "metadata": {
        "id": "mnPJDP6QZXoW",
        "colab_type": "text"
      },
      "source": [
        "**Target Task Classifier**\n",
        "\n",
        "Here we create data for classifier model which does all the preprocessing needed for text classification analysis. The vocab module is used for mapping ids to words and also ensures that data_clas uses the same dictionary as data_lm as seen in the data pre-processing part of code\n",
        "\n",
        "This step defines that our model can predict a class label once we re-train the model as a classifier"
      ]
    },
    {
      "cell_type": "code",
      "metadata": {
        "id": "e-Q3c6mpY4r_",
        "colab_type": "code",
        "outputId": "57fe74c7-1ebb-497c-a99c-43d552e4b0ea",
        "colab": {
          "base_uri": "https://localhost:8080/",
          "height": 281
        }
      },
      "source": [
        "# Data for Classifier model and training the model with labels\n",
        "\n",
        "data_clas = TextClasDataBunch.from_csv(path, 'tweetsTrain.csv', vocab=data_lm.train_ds.vocab, bs=128)\n",
        "\n",
        "#If we want to save the text classification bunch to a file at the given path so that, next time data bunch process does not take much time\n",
        "data_clas.save('data_clas.pkl')\n",
        "data_clas=load_data(path,'data_clas.pkl')\n",
        "data_clas.show_batch()"
      ],
      "execution_count": 0,
      "outputs": [
        {
          "output_type": "display_data",
          "data": {
            "text/html": [
              "<table border=\"1\" class=\"dataframe\">\n",
              "  <thead>\n",
              "    <tr style=\"text-align: right;\">\n",
              "      <th>text</th>\n",
              "      <th>target</th>\n",
              "    </tr>\n",
              "  </thead>\n",
              "  <tbody>\n",
              "    <tr>\n",
              "      <td>xxbos usairways xxup fuk u xxup us xxup airways xxup with xxup yo xxup shitty xxup chicken xxup xxunk xxup sandwich xxup that xxup so xxup overpriced xxup and u xxup xxunk xxup make xxup me xxup wait xxup in a 6 xxup hr xxup layover xxup fuk u xxup and</td>\n",
              "      <td>negative</td>\n",
              "    </tr>\n",
              "    <tr>\n",
              "      <td>xxbos usairways xxup plans xxup changed xxup is xxup that xxup what u xxup call xxup not xxup bein xxup able 2 xxup park xxup on xxup time xxup planes w a 2 xxup hr xxup layover n b xxup able 2 xxup make xxup ur xxup connection seriously</td>\n",
              "      <td>negative</td>\n",
              "    </tr>\n",
              "    <tr>\n",
              "      <td>xxbos united xxup where xxup is xxup my xxup fucking xxup bag xxmaj where the fuck is my fucking bag xxup tell xxup me xxup now xxup or xxup give xxup me a xxup number xxup to xxup call a xxup human xxup xxunk m</td>\n",
              "      <td>negative</td>\n",
              "    </tr>\n",
              "    <tr>\n",
              "      <td>xxbos united i xxup just xxup asked xxup my xxup boyfriend xxup to xxup prom xxup over xxup the xxup xxunk xxup on xxup flight 494 xxup he xxup said xxup yes xxup best xxup day xxup ever xxup thank u xxup so xxup much</td>\n",
              "      <td>positive</td>\n",
              "    </tr>\n",
              "    <tr>\n",
              "      <td>xxbos united xxunk 7 xxup weeks xxmaj late flightr xxup and i xxup still xxup have xxup not xxup received xxup my xxup miles xxup from xxup the mileageplus xxmaj gift xxmaj card 150 xxup starbucks xxup card i xxup handed xxup over</td>\n",
              "      <td>negative</td>\n",
              "    </tr>\n",
              "  </tbody>\n",
              "</table>"
            ],
            "text/plain": [
              "<IPython.core.display.HTML object>"
            ]
          },
          "metadata": {
            "tags": []
          }
        }
      ]
    },
    {
      "cell_type": "markdown",
      "metadata": {
        "id": "grUyXM3yb1Jd",
        "colab_type": "text"
      },
      "source": [
        "The pre-processed data with numericalization done is seen as below:"
      ]
    },
    {
      "cell_type": "code",
      "metadata": {
        "id": "X_B-v3cwb2QV",
        "colab_type": "code",
        "outputId": "437cd797-4651-4a29-f0e6-e9aebe3abb72",
        "colab": {
          "base_uri": "https://localhost:8080/",
          "height": 372
        }
      },
      "source": [
        "iter_dl = iter(data_clas.train_dl)\n",
        "_ = next(iter_dl)\n",
        "x,y = next(iter_dl)\n",
        "x[-10:,:20]"
      ],
      "execution_count": 0,
      "outputs": [
        {
          "output_type": "execute_result",
          "data": {
            "text/plain": [
              "tensor([[   1,    2,   24,   90,    7,  110, 1487,   10,   38,   26,  159,  412,\n",
              "          590,    9, 3146,   68,  688, 1211],\n",
              "        [   1,    2,   25,   76,   13,   15, 1600,   61, 1063,   42,   86,    9,\n",
              "           16,    5, 1232,  212,   22, 3529],\n",
              "        [   1,    2,   24,  394,  119,   38,   13,   31,   12, 2259, 4126,  186,\n",
              "          632,   81,    5,   47,    5, 1800],\n",
              "        [   1,    2,   93, 3367, 3368,    5,   98,  144,  264,    0,    0,    5,\n",
              "         2855, 3367,   10,  257, 3368, 2100],\n",
              "        [   1,    2,   24,   28,  899,  466,   30,  839,  214, 1285,   46, 1681,\n",
              "          837,  360,  295,   23,   18,  601],\n",
              "        [   1,    2,   24,    5,  239,   38,   30,    5,   82,   26,    6,  166,\n",
              "          339,   13,  294,   29,    5,   47],\n",
              "        [   1,    2,   25,    5,   77, 1033,    0,   37,    6,    0,   17,   12,\n",
              "            5,  631,   37,    6,  233, 1587],\n",
              "        [   1,    2,   24,   76,   13,   15,  356,  140, 1106,   18,  716,   35,\n",
              "           33,   61,   51,    0,    0,   24],\n",
              "        [   1,    2,   24,   10,  283,   39,   22,   26,   12,  562,  600, 3343,\n",
              "           64,   27,   11, 2359,    5,   16],\n",
              "        [   1,    2,   14,   10,   57,  164,  484,   18,   31, 1071,   66,  200,\n",
              "           49,  182,    9,   33, 1533, 3497]], device='cuda:0')"
            ]
          },
          "metadata": {
            "tags": []
          },
          "execution_count": 33
        }
      ]
    },
    {
      "cell_type": "code",
      "metadata": {
        "id": "FuXwkOc1aX3t",
        "colab_type": "code",
        "colab": {}
      },
      "source": [
        "#Training the model using classifier data \n",
        "learn = text_classifier_learner(data_clas, AWD_LSTM, drop_mult=0.3)\n",
        "\n",
        "#loading the saved language encoder\n",
        "learn.load_encoder('fine_tune_enc')"
      ],
      "execution_count": 0,
      "outputs": []
    },
    {
      "cell_type": "code",
      "metadata": {
        "id": "pRmXJ4JsadvZ",
        "colab_type": "code",
        "outputId": "8f76d43c-41c4-4382-84a9-2c01e922aa4c",
        "colab": {
          "base_uri": "https://localhost:8080/",
          "height": 335
        }
      },
      "source": [
        "# To find the optimal learning rate after the model has been trained with classifier\n",
        "learn.lr_find()\n",
        "learn.recorder.plot(suggestion=True)"
      ],
      "execution_count": 0,
      "outputs": [
        {
          "output_type": "display_data",
          "data": {
            "text/html": [
              ""
            ],
            "text/plain": [
              "<IPython.core.display.HTML object>"
            ]
          },
          "metadata": {
            "tags": []
          }
        },
        {
          "output_type": "stream",
          "text": [
            "LR Finder is complete, type {learner_name}.recorder.plot() to see the graph.\n",
            "Min numerical gradient: 5.75E-02\n",
            "Min loss divided by 10: 3.02E-02\n"
          ],
          "name": "stdout"
        },
        {
          "output_type": "display_data",
          "data": {
            "image/png": "[encoded data removed]",
            "text/plain": [
              "<Figure size 432x288 with 1 Axes>"
            ]
          },
          "metadata": {
            "tags": []
          }
        }
      ]
    },
    {
      "cell_type": "code",
      "metadata": {
        "id": "U8X3VjLJak7Q",
        "colab_type": "code",
        "colab": {}
      },
      "source": [
        "#Optimal learning rate which can be observed above\n",
        "lr  = 3e-3\n",
        "\n",
        "# set discriminative learning rate\n",
        "dlr = 2.6\n",
        "\n",
        "#Defining a numpy array for the different layers starting with small value and then exponentially increasing\n",
        "olr = np.array([lr/(dlr**4), lr/(dlr**3), lr/(dlr**2), lr/dlr, lr])"
      ],
      "execution_count": 0,
      "outputs": []
    },
    {
      "cell_type": "markdown",
      "metadata": {
        "id": "_VW2YEWI_16c",
        "colab_type": "text"
      },
      "source": [
        "**Gradual Unfreezing:**\n",
        "\n",
        "The aggressive fine-tuning pf the target classifier may lead to removing the benefits of language model pre-training and so we need to fine tune  and unfreeze the layers of model gradually: \n",
        "\n",
        "*   The last LSTM layer is first unfrozen and the model is fine-tuned with one epoch\n",
        "*   Then the next last layer is unfrozen\n",
        "\n",
        "*   This process is repeated until we get all layers fine tuned to convergence\n",
        "\n",
        "\n",
        "\n"
      ]
    },
    {
      "cell_type": "code",
      "metadata": {
        "id": "eIoWDWWLLCjW",
        "colab_type": "code",
        "outputId": "f1e4a5bb-ff73-428f-8af6-fcb084a72d7e",
        "colab": {
          "base_uri": "https://localhost:8080/",
          "height": 77
        }
      },
      "source": [
        "#Fitting into the model for 1 epoch and weight decay 1e-7\n",
        "learn.fit_one_cycle(1,olr, wd = 1e-7)"
      ],
      "execution_count": 0,
      "outputs": [
        {
          "output_type": "display_data",
          "data": {
            "text/html": [
              "<table border=\"1\" class=\"dataframe\">\n",
              "  <thead>\n",
              "    <tr style=\"text-align: left;\">\n",
              "      <th>epoch</th>\n",
              "      <th>train_loss</th>\n",
              "      <th>valid_loss</th>\n",
              "      <th>accuracy</th>\n",
              "      <th>time</th>\n",
              "    </tr>\n",
              "  </thead>\n",
              "  <tbody>\n",
              "    <tr>\n",
              "      <td>0</td>\n",
              "      <td>0.670704</td>\n",
              "      <td>0.560438</td>\n",
              "      <td>0.781477</td>\n",
              "      <td>00:09</td>\n",
              "    </tr>\n",
              "  </tbody>\n",
              "</table>"
            ],
            "text/plain": [
              "<IPython.core.display.HTML object>"
            ]
          },
          "metadata": {
            "tags": []
          }
        }
      ]
    },
    {
      "cell_type": "code",
      "metadata": {
        "colab_type": "code",
        "outputId": "f9a305c2-1c50-40c4-bc3f-887e73c78934",
        "id": "HyORLCjl09j6",
        "colab": {
          "base_uri": "https://localhost:8080/",
          "height": 77
        }
      },
      "source": [
        "#Unfreezing the last two layers of model\n",
        "learn.freeze_to(-2)\n",
        "learn.fit_one_cycle(1,olr, wd= 1e-7)"
      ],
      "execution_count": 0,
      "outputs": [
        {
          "output_type": "display_data",
          "data": {
            "text/html": [
              "<table border=\"1\" class=\"dataframe\">\n",
              "  <thead>\n",
              "    <tr style=\"text-align: left;\">\n",
              "      <th>epoch</th>\n",
              "      <th>train_loss</th>\n",
              "      <th>valid_loss</th>\n",
              "      <th>accuracy</th>\n",
              "      <th>time</th>\n",
              "    </tr>\n",
              "  </thead>\n",
              "  <tbody>\n",
              "    <tr>\n",
              "      <td>0</td>\n",
              "      <td>0.601862</td>\n",
              "      <td>0.511149</td>\n",
              "      <td>0.794708</td>\n",
              "      <td>00:12</td>\n",
              "    </tr>\n",
              "  </tbody>\n",
              "</table>"
            ],
            "text/plain": [
              "<IPython.core.display.HTML object>"
            ]
          },
          "metadata": {
            "tags": []
          }
        }
      ]
    },
    {
      "cell_type": "code",
      "metadata": {
        "id": "xSp6IGqNLYgi",
        "colab_type": "code",
        "outputId": "02d0f69e-722a-4dd0-fd3b-fc8b6913b3c0",
        "colab": {
          "base_uri": "https://localhost:8080/",
          "height": 197
        }
      },
      "source": [
        "#Unfreezing all the layers of model and fine tuning it\n",
        "learn.unfreeze()\n",
        "learn.fit_one_cycle(5,olr, wd=1e-7)\n"
      ],
      "execution_count": 0,
      "outputs": [
        {
          "output_type": "display_data",
          "data": {
            "text/html": [
              "<table border=\"1\" class=\"dataframe\">\n",
              "  <thead>\n",
              "    <tr style=\"text-align: left;\">\n",
              "      <th>epoch</th>\n",
              "      <th>train_loss</th>\n",
              "      <th>valid_loss</th>\n",
              "      <th>accuracy</th>\n",
              "      <th>time</th>\n",
              "    </tr>\n",
              "  </thead>\n",
              "  <tbody>\n",
              "    <tr>\n",
              "      <td>0</td>\n",
              "      <td>0.543556</td>\n",
              "      <td>0.503359</td>\n",
              "      <td>0.790440</td>\n",
              "      <td>00:23</td>\n",
              "    </tr>\n",
              "    <tr>\n",
              "      <td>1</td>\n",
              "      <td>0.486880</td>\n",
              "      <td>0.471701</td>\n",
              "      <td>0.820743</td>\n",
              "      <td>00:24</td>\n",
              "    </tr>\n",
              "    <tr>\n",
              "      <td>2</td>\n",
              "      <td>0.381273</td>\n",
              "      <td>0.502591</td>\n",
              "      <td>0.822023</td>\n",
              "      <td>00:24</td>\n",
              "    </tr>\n",
              "    <tr>\n",
              "      <td>3</td>\n",
              "      <td>0.250449</td>\n",
              "      <td>0.538461</td>\n",
              "      <td>0.821169</td>\n",
              "      <td>00:25</td>\n",
              "    </tr>\n",
              "    <tr>\n",
              "      <td>4</td>\n",
              "      <td>0.174795</td>\n",
              "      <td>0.577526</td>\n",
              "      <td>0.829279</td>\n",
              "      <td>00:26</td>\n",
              "    </tr>\n",
              "  </tbody>\n",
              "</table>"
            ],
            "text/plain": [
              "<IPython.core.display.HTML object>"
            ]
          },
          "metadata": {
            "tags": []
          }
        }
      ]
    },
    {
      "cell_type": "code",
      "metadata": {
        "id": "CP5bayDzLoe-",
        "colab_type": "code",
        "outputId": "d1c89443-5ab4-4043-88f7-3b5b28b94940",
        "colab": {
          "base_uri": "https://localhost:8080/",
          "height": 1000
        }
      },
      "source": [
        "# predict the sentiment for testing data from the model obtained and calculate accuracy\n",
        "import warnings\n",
        "warnings.simplefilter('ignore')\n",
        "dfTest['pred_sentiment'] = dfTest['text'].apply(lambda row: str(learn.predict(row)[0]))\n",
        "dfTest"
      ],
      "execution_count": 0,
      "outputs": [
        {
          "output_type": "execute_result",
          "data": {
            "text/html": [
              "<div>\n",
              "<style scoped>\n",
              "    .dataframe tbody tr th:only-of-type {\n",
              "        vertical-align: middle;\n",
              "    }\n",
              "\n",
              "    .dataframe tbody tr th {\n",
              "        vertical-align: top;\n",
              "    }\n",
              "\n",
              "    .dataframe thead th {\n",
              "        text-align: right;\n",
              "    }\n",
              "</style>\n",
              "<table border=\"1\" class=\"dataframe\">\n",
              "  <thead>\n",
              "    <tr style=\"text-align: right;\">\n",
              "      <th></th>\n",
              "      <th>airline_sentiment</th>\n",
              "      <th>text</th>\n",
              "      <th>pred_sentiment</th>\n",
              "    </tr>\n",
              "  </thead>\n",
              "  <tbody>\n",
              "    <tr>\n",
              "      <th>3047</th>\n",
              "      <td>negative</td>\n",
              "      <td>united abigailedge Another glitch</td>\n",
              "      <td>negative</td>\n",
              "    </tr>\n",
              "    <tr>\n",
              "      <th>5991</th>\n",
              "      <td>neutral</td>\n",
              "      <td>SouthwestAir I got a phishing email claiming t...</td>\n",
              "      <td>neutral</td>\n",
              "    </tr>\n",
              "    <tr>\n",
              "      <th>12793</th>\n",
              "      <td>negative</td>\n",
              "      <td>AmericanAir Why doesnt anyone make a better ef...</td>\n",
              "      <td>negative</td>\n",
              "    </tr>\n",
              "    <tr>\n",
              "      <th>7317</th>\n",
              "      <td>positive</td>\n",
              "      <td>JetBlue thanks for the quick response Fingers ...</td>\n",
              "      <td>positive</td>\n",
              "    </tr>\n",
              "    <tr>\n",
              "      <th>4883</th>\n",
              "      <td>neutral</td>\n",
              "      <td>SouthwestAir is service to Aruba being permane...</td>\n",
              "      <td>neutral</td>\n",
              "    </tr>\n",
              "    <tr>\n",
              "      <th>8779</th>\n",
              "      <td>negative</td>\n",
              "      <td>JetBlue where exactly can I leave a note</td>\n",
              "      <td>neutral</td>\n",
              "    </tr>\n",
              "    <tr>\n",
              "      <th>13875</th>\n",
              "      <td>negative</td>\n",
              "      <td>AmericanAir seriously I do not want to wait 24...</td>\n",
              "      <td>negative</td>\n",
              "    </tr>\n",
              "    <tr>\n",
              "      <th>11648</th>\n",
              "      <td>negative</td>\n",
              "      <td>USAirways I have a voucher from a past trip th...</td>\n",
              "      <td>negative</td>\n",
              "    </tr>\n",
              "    <tr>\n",
              "      <th>4154</th>\n",
              "      <td>neutral</td>\n",
              "      <td>united The guidelines say 10x9x17 my bag is 20...</td>\n",
              "      <td>negative</td>\n",
              "    </tr>\n",
              "    <tr>\n",
              "      <th>2284</th>\n",
              "      <td>negative</td>\n",
              "      <td>united FlightUA1750 is basically a prison on t...</td>\n",
              "      <td>negative</td>\n",
              "    </tr>\n",
              "    <tr>\n",
              "      <th>10551</th>\n",
              "      <td>negative</td>\n",
              "      <td>USAirways ive been on hold for an hour trying ...</td>\n",
              "      <td>negative</td>\n",
              "    </tr>\n",
              "    <tr>\n",
              "      <th>5329</th>\n",
              "      <td>neutral</td>\n",
              "      <td>SouthwestAir when does todays scavenger hunt s...</td>\n",
              "      <td>neutral</td>\n",
              "    </tr>\n",
              "    <tr>\n",
              "      <th>8788</th>\n",
              "      <td>negative</td>\n",
              "      <td>Always been a JetBlue fan but maybe next time ...</td>\n",
              "      <td>negative</td>\n",
              "    </tr>\n",
              "    <tr>\n",
              "      <th>5873</th>\n",
              "      <td>positive</td>\n",
              "      <td>SouthwestAir me amp sammijon3s are best friend...</td>\n",
              "      <td>neutral</td>\n",
              "    </tr>\n",
              "    <tr>\n",
              "      <th>9454</th>\n",
              "      <td>negative</td>\n",
              "      <td>USAirways usually sorry doesnt involve moving ...</td>\n",
              "      <td>negative</td>\n",
              "    </tr>\n",
              "    <tr>\n",
              "      <th>2647</th>\n",
              "      <td>positive</td>\n",
              "      <td>united thank you</td>\n",
              "      <td>positive</td>\n",
              "    </tr>\n",
              "    <tr>\n",
              "      <th>11539</th>\n",
              "      <td>neutral</td>\n",
              "      <td>USAirways if there are empty first class seats...</td>\n",
              "      <td>neutral</td>\n",
              "    </tr>\n",
              "    <tr>\n",
              "      <th>1942</th>\n",
              "      <td>negative</td>\n",
              "      <td>united lost 4 loyal customers and mileage plus...</td>\n",
              "      <td>negative</td>\n",
              "    </tr>\n",
              "    <tr>\n",
              "      <th>12588</th>\n",
              "      <td>negative</td>\n",
              "      <td>AmericanAir its beyond complicated now and it ...</td>\n",
              "      <td>negative</td>\n",
              "    </tr>\n",
              "    <tr>\n",
              "      <th>2658</th>\n",
              "      <td>neutral</td>\n",
              "      <td>united I am going to a service desk now to see...</td>\n",
              "      <td>negative</td>\n",
              "    </tr>\n",
              "    <tr>\n",
              "      <th>13019</th>\n",
              "      <td>negative</td>\n",
              "      <td>AmericanAir Not okay Since you couldnt put me ...</td>\n",
              "      <td>negative</td>\n",
              "    </tr>\n",
              "    <tr>\n",
              "      <th>1593</th>\n",
              "      <td>negative</td>\n",
              "      <td>united how can a plane that has been sitting i...</td>\n",
              "      <td>negative</td>\n",
              "    </tr>\n",
              "    <tr>\n",
              "      <th>5855</th>\n",
              "      <td>neutral</td>\n",
              "      <td>SouthwestAir iPhone App Adds Passbook Support ...</td>\n",
              "      <td>neutral</td>\n",
              "    </tr>\n",
              "    <tr>\n",
              "      <th>3126</th>\n",
              "      <td>negative</td>\n",
              "      <td>united a rapid trip plane ticket from Idaho to...</td>\n",
              "      <td>negative</td>\n",
              "    </tr>\n",
              "    <tr>\n",
              "      <th>888</th>\n",
              "      <td>neutral</td>\n",
              "      <td>united to be clear on my luggage comment I am ...</td>\n",
              "      <td>neutral</td>\n",
              "    </tr>\n",
              "    <tr>\n",
              "      <th>9963</th>\n",
              "      <td>negative</td>\n",
              "      <td>usairways I have been on hold for over 3 hours...</td>\n",
              "      <td>negative</td>\n",
              "    </tr>\n",
              "    <tr>\n",
              "      <th>14116</th>\n",
              "      <td>negative</td>\n",
              "      <td>AmericanAir we are through I can quit you I am...</td>\n",
              "      <td>negative</td>\n",
              "    </tr>\n",
              "    <tr>\n",
              "      <th>1799</th>\n",
              "      <td>negative</td>\n",
              "      <td>united You cause me to miss my flight telling ...</td>\n",
              "      <td>negative</td>\n",
              "    </tr>\n",
              "    <tr>\n",
              "      <th>13075</th>\n",
              "      <td>positive</td>\n",
              "      <td>AmericanAir thx just sent the DM</td>\n",
              "      <td>positive</td>\n",
              "    </tr>\n",
              "    <tr>\n",
              "      <th>13009</th>\n",
              "      <td>negative</td>\n",
              "      <td>AmericanAir We dont mind the fee We were told ...</td>\n",
              "      <td>negative</td>\n",
              "    </tr>\n",
              "    <tr>\n",
              "      <th>...</th>\n",
              "      <td>...</td>\n",
              "      <td>...</td>\n",
              "      <td>...</td>\n",
              "    </tr>\n",
              "    <tr>\n",
              "      <th>3504</th>\n",
              "      <td>positive</td>\n",
              "      <td>united thanks for the quick reply I just fill ...</td>\n",
              "      <td>positive</td>\n",
              "    </tr>\n",
              "    <tr>\n",
              "      <th>10942</th>\n",
              "      <td>positive</td>\n",
              "      <td>USAirways Thks US 1786 219 PHL to FLL Overall ...</td>\n",
              "      <td>negative</td>\n",
              "    </tr>\n",
              "    <tr>\n",
              "      <th>4928</th>\n",
              "      <td>positive</td>\n",
              "      <td>SouthwestAir Leave BUR ten minutes Late Flight...</td>\n",
              "      <td>negative</td>\n",
              "    </tr>\n",
              "    <tr>\n",
              "      <th>11985</th>\n",
              "      <td>negative</td>\n",
              "      <td>AmericanAir Im not sure what happened to my US...</td>\n",
              "      <td>negative</td>\n",
              "    </tr>\n",
              "    <tr>\n",
              "      <th>5452</th>\n",
              "      <td>negative</td>\n",
              "      <td>SouthwestAir Horrible experience ever with air...</td>\n",
              "      <td>negative</td>\n",
              "    </tr>\n",
              "    <tr>\n",
              "      <th>14552</th>\n",
              "      <td>neutral</td>\n",
              "      <td>AmericanAir please help us get home tomorrow</td>\n",
              "      <td>neutral</td>\n",
              "    </tr>\n",
              "    <tr>\n",
              "      <th>9576</th>\n",
              "      <td>negative</td>\n",
              "      <td>USAirways I am appalled My departure with you ...</td>\n",
              "      <td>negative</td>\n",
              "    </tr>\n",
              "    <tr>\n",
              "      <th>14070</th>\n",
              "      <td>positive</td>\n",
              "      <td>AmericanAir I ended up on a flight to LA my fo...</td>\n",
              "      <td>positive</td>\n",
              "    </tr>\n",
              "    <tr>\n",
              "      <th>11252</th>\n",
              "      <td>negative</td>\n",
              "      <td>USAirways flying from Manchester international...</td>\n",
              "      <td>negative</td>\n",
              "    </tr>\n",
              "    <tr>\n",
              "      <th>1680</th>\n",
              "      <td>neutral</td>\n",
              "      <td>united AND WE GOT ZERO VOUCHERS FOR HOTEL OR C...</td>\n",
              "      <td>negative</td>\n",
              "    </tr>\n",
              "    <tr>\n",
              "      <th>3827</th>\n",
              "      <td>neutral</td>\n",
              "      <td>united this is me and my partners first trip t...</td>\n",
              "      <td>negative</td>\n",
              "    </tr>\n",
              "    <tr>\n",
              "      <th>3874</th>\n",
              "      <td>neutral</td>\n",
              "      <td>united Can I add miles from my January Air Chi...</td>\n",
              "      <td>neutral</td>\n",
              "    </tr>\n",
              "    <tr>\n",
              "      <th>6821</th>\n",
              "      <td>positive</td>\n",
              "      <td>JetBlue your blue helped bring out the color o...</td>\n",
              "      <td>negative</td>\n",
              "    </tr>\n",
              "    <tr>\n",
              "      <th>9605</th>\n",
              "      <td>negative</td>\n",
              "      <td>USAirways We take Late Flight to a whole new l...</td>\n",
              "      <td>negative</td>\n",
              "    </tr>\n",
              "    <tr>\n",
              "      <th>6100</th>\n",
              "      <td>positive</td>\n",
              "      <td>southwestair Amazing view on the approach to L...</td>\n",
              "      <td>positive</td>\n",
              "    </tr>\n",
              "    <tr>\n",
              "      <th>7167</th>\n",
              "      <td>neutral</td>\n",
              "      <td>JetBlue really</td>\n",
              "      <td>neutral</td>\n",
              "    </tr>\n",
              "    <tr>\n",
              "      <th>13086</th>\n",
              "      <td>negative</td>\n",
              "      <td>AmericanAir are flights leaving Dallas right n...</td>\n",
              "      <td>negative</td>\n",
              "    </tr>\n",
              "    <tr>\n",
              "      <th>8531</th>\n",
              "      <td>positive</td>\n",
              "      <td>JetBlue ok Ill book JB to JFK then book to ATH...</td>\n",
              "      <td>positive</td>\n",
              "    </tr>\n",
              "    <tr>\n",
              "      <th>6766</th>\n",
              "      <td>neutral</td>\n",
              "      <td>JetBlue Hello Good afternoon how are you I nee...</td>\n",
              "      <td>neutral</td>\n",
              "    </tr>\n",
              "    <tr>\n",
              "      <th>93</th>\n",
              "      <td>negative</td>\n",
              "      <td>VirginAmerica just landed in LAX an hour after...</td>\n",
              "      <td>negative</td>\n",
              "    </tr>\n",
              "    <tr>\n",
              "      <th>12688</th>\n",
              "      <td>positive</td>\n",
              "      <td>AmericanAir thanks</td>\n",
              "      <td>positive</td>\n",
              "    </tr>\n",
              "    <tr>\n",
              "      <th>1187</th>\n",
              "      <td>positive</td>\n",
              "      <td>united The DEN b44 agent 930am was amazing The...</td>\n",
              "      <td>positive</td>\n",
              "    </tr>\n",
              "    <tr>\n",
              "      <th>1835</th>\n",
              "      <td>negative</td>\n",
              "      <td>united direct messages not going through pleas...</td>\n",
              "      <td>negative</td>\n",
              "    </tr>\n",
              "    <tr>\n",
              "      <th>11003</th>\n",
              "      <td>negative</td>\n",
              "      <td>USAirways They dont stand alone for me I bough...</td>\n",
              "      <td>negative</td>\n",
              "    </tr>\n",
              "    <tr>\n",
              "      <th>1238</th>\n",
              "      <td>negative</td>\n",
              "      <td>united working with Lisa J at ORD shes working...</td>\n",
              "      <td>negative</td>\n",
              "    </tr>\n",
              "    <tr>\n",
              "      <th>1474</th>\n",
              "      <td>positive</td>\n",
              "      <td>“united Looking for a reason to travel quote h...</td>\n",
              "      <td>neutral</td>\n",
              "    </tr>\n",
              "    <tr>\n",
              "      <th>10170</th>\n",
              "      <td>negative</td>\n",
              "      <td>USAirways flight 3739 leaving CVG Gate agent h...</td>\n",
              "      <td>negative</td>\n",
              "    </tr>\n",
              "    <tr>\n",
              "      <th>2092</th>\n",
              "      <td>negative</td>\n",
              "      <td>united look at all the delta flights that land...</td>\n",
              "      <td>negative</td>\n",
              "    </tr>\n",
              "    <tr>\n",
              "      <th>2041</th>\n",
              "      <td>negative</td>\n",
              "      <td>united MaxAbrahms if he needs assistance Do yo...</td>\n",
              "      <td>neutral</td>\n",
              "    </tr>\n",
              "    <tr>\n",
              "      <th>11000</th>\n",
              "      <td>negative</td>\n",
              "      <td>USAirways 3935 Sitting on a freezing bus becau...</td>\n",
              "      <td>negative</td>\n",
              "    </tr>\n",
              "  </tbody>\n",
              "</table>\n",
              "<p>2928 rows × 3 columns</p>\n",
              "</div>"
            ],
            "text/plain": [
              "      airline_sentiment  ... pred_sentiment\n",
              "3047           negative  ...       negative\n",
              "5991            neutral  ...        neutral\n",
              "12793          negative  ...       negative\n",
              "7317           positive  ...       positive\n",
              "4883            neutral  ...        neutral\n",
              "8779           negative  ...        neutral\n",
              "13875          negative  ...       negative\n",
              "11648          negative  ...       negative\n",
              "4154            neutral  ...       negative\n",
              "2284           negative  ...       negative\n",
              "10551          negative  ...       negative\n",
              "5329            neutral  ...        neutral\n",
              "8788           negative  ...       negative\n",
              "5873           positive  ...        neutral\n",
              "9454           negative  ...       negative\n",
              "2647           positive  ...       positive\n",
              "11539           neutral  ...        neutral\n",
              "1942           negative  ...       negative\n",
              "12588          negative  ...       negative\n",
              "2658            neutral  ...       negative\n",
              "13019          negative  ...       negative\n",
              "1593           negative  ...       negative\n",
              "5855            neutral  ...        neutral\n",
              "3126           negative  ...       negative\n",
              "888             neutral  ...        neutral\n",
              "9963           negative  ...       negative\n",
              "14116          negative  ...       negative\n",
              "1799           negative  ...       negative\n",
              "13075          positive  ...       positive\n",
              "13009          negative  ...       negative\n",
              "...                 ...  ...            ...\n",
              "3504           positive  ...       positive\n",
              "10942          positive  ...       negative\n",
              "4928           positive  ...       negative\n",
              "11985          negative  ...       negative\n",
              "5452           negative  ...       negative\n",
              "14552           neutral  ...        neutral\n",
              "9576           negative  ...       negative\n",
              "14070          positive  ...       positive\n",
              "11252          negative  ...       negative\n",
              "1680            neutral  ...       negative\n",
              "3827            neutral  ...       negative\n",
              "3874            neutral  ...        neutral\n",
              "6821           positive  ...       negative\n",
              "9605           negative  ...       negative\n",
              "6100           positive  ...       positive\n",
              "7167            neutral  ...        neutral\n",
              "13086          negative  ...       negative\n",
              "8531           positive  ...       positive\n",
              "6766            neutral  ...        neutral\n",
              "93             negative  ...       negative\n",
              "12688          positive  ...       positive\n",
              "1187           positive  ...       positive\n",
              "1835           negative  ...       negative\n",
              "11003          negative  ...       negative\n",
              "1238           negative  ...       negative\n",
              "1474           positive  ...        neutral\n",
              "10170          negative  ...       negative\n",
              "2092           negative  ...       negative\n",
              "2041           negative  ...        neutral\n",
              "11000          negative  ...       negative\n",
              "\n",
              "[2928 rows x 3 columns]"
            ]
          },
          "metadata": {
            "tags": []
          },
          "execution_count": 19
        }
      ]
    },
    {
      "cell_type": "code",
      "metadata": {
        "id": "zUzVeWMbL8-1",
        "colab_type": "code",
        "outputId": "dc43f995-5278-4c77-b7e0-4b2ef87bb811",
        "colab": {
          "base_uri": "https://localhost:8080/",
          "height": 34
        }
      },
      "source": [
        "#Accuracy of model on the test data\n",
        "from sklearn.metrics import confusion_matrix, accuracy_score\n",
        "print(\"Test Accuracy: \", accuracy_score(dfTest['airline_sentiment'], dfTest['pred_sentiment']))"
      ],
      "execution_count": 0,
      "outputs": [
        {
          "output_type": "stream",
          "text": [
            "Test Accuracy:  0.826844262295082\n"
          ],
          "name": "stdout"
        }
      ]
    },
    {
      "cell_type": "markdown",
      "metadata": {
        "id": "hGcI0uNHxYX6",
        "colab_type": "text"
      },
      "source": [
        "**Testing the model on some Random Tweets**"
      ]
    },
    {
      "cell_type": "code",
      "metadata": {
        "id": "WrkGP5ogXUdv",
        "colab_type": "code",
        "outputId": "ae20aca6-e301-4e9c-9241-647d3e171eef",
        "colab": {
          "base_uri": "https://localhost:8080/",
          "height": 34
        }
      },
      "source": [
        "learn.predict(\"@delta flight experince with you was okay not that up to the mark\")"
      ],
      "execution_count": 0,
      "outputs": [
        {
          "output_type": "execute_result",
          "data": {
            "text/plain": [
              "(Category neutral, tensor(1), tensor([0.1040, 0.8586, 0.0375]))"
            ]
          },
          "metadata": {
            "tags": []
          },
          "execution_count": 62
        }
      ]
    },
    {
      "cell_type": "code",
      "metadata": {
        "id": "-LVj8NtKVQar",
        "colab_type": "code",
        "outputId": "17e12a9c-68d5-4771-f9c1-8a5c6c02873c",
        "colab": {
          "base_uri": "https://localhost:8080/",
          "height": 34
        }
      },
      "source": [
        "learn.predict(\"The service of Spirt Airways needs improvement!\")"
      ],
      "execution_count": 0,
      "outputs": [
        {
          "output_type": "execute_result",
          "data": {
            "text/plain": [
              "(Category negative, tensor(0), tensor([0.9427, 0.0440, 0.0133]))"
            ]
          },
          "metadata": {
            "tags": []
          },
          "execution_count": 75
        }
      ]
    },
    {
      "cell_type": "code",
      "metadata": {
        "id": "eUZ64OF3Wrhe",
        "colab_type": "code",
        "outputId": "95ef664d-3926-4e19-ccf7-25fd7d0a3530",
        "colab": {
          "base_uri": "https://localhost:8080/",
          "height": 34
        }
      },
      "source": [
        "learn.predict(\"The food of Delta was good but overall experience was not nice\")"
      ],
      "execution_count": 0,
      "outputs": [
        {
          "output_type": "execute_result",
          "data": {
            "text/plain": [
              "(Category negative, tensor(0), tensor([9.9749e-01, 2.5338e-04, 2.2564e-03]))"
            ]
          },
          "metadata": {
            "tags": []
          },
          "execution_count": 76
        }
      ]
    },
    {
      "cell_type": "code",
      "metadata": {
        "id": "0S3lfAWwW7a2",
        "colab_type": "code",
        "outputId": "a9e221c5-e100-40df-c15c-83e513fd1099",
        "colab": {
          "base_uri": "https://localhost:8080/",
          "height": 34
        }
      },
      "source": [
        "learn.predict(\"THANK YOUUU! @AirFrance for grreaat flight experience. I would recommend this\")"
      ],
      "execution_count": 0,
      "outputs": [
        {
          "output_type": "execute_result",
          "data": {
            "text/plain": [
              "(Category positive, tensor(2), tensor([0.0013, 0.4368, 0.5618]))"
            ]
          },
          "metadata": {
            "tags": []
          },
          "execution_count": 77
        }
      ]
    },
    {
      "cell_type": "markdown",
      "metadata": {
        "id": "R9I8J4QKUx1Y",
        "colab_type": "text"
      },
      "source": [
        "ULMFiT was chosen because compared to other techniques the testing accuracy was high as can be seen below:\n",
        "\n",
        "\n",
        "\n",
        "*   Random Forest= 75%\n",
        "*    AdaBoost= 72%\n",
        "\n",
        "*   Multinomial Logistic Regression= 65%\n",
        "\n",
        "*   Deep Learning Model with Dropouts in Keras - 77.9%\n",
        "\n",
        "*    **Results with ULMFiT model : Training=82.93% and Testing=82.68%**\n",
        "\n",
        "\n",
        "\n",
        "These results show that building the model from scratch for small datasets may not give efficient accuracy but, transfer learning that is fine-tuning the pre-trained model on complex dataset using our dataset even if it is small in size provides efficient results. \n",
        "\n",
        "The results shows that ULMFiT provides state-of-the-art (SOTA) results even with a dataset as small as Twitter US Airline Sentiment. Also, difference between source and target domain does not appear to affect the performance.\n",
        "\n",
        "\n",
        "\n",
        "\n",
        "\n",
        "\n"
      ]
    },
    {
      "cell_type": "markdown",
      "metadata": {
        "id": "4NgvT0C6UxuD",
        "colab_type": "text"
      },
      "source": [
        "\n",
        "**The accuracy can be further enhanced by fine tuning the parameters for example by showing momentums by plot_lr(show_moms=True) and using the optimal momentum range for fine-tuning and fitting the model. I tried using this experiment and got around 83% but it was varying everytime and went down to 80%  sometimes so, was not able to get stable results. I was getting stable results using this method of an array with exponentially increasing weights. So, I opted to use this method**\n"
      ]
    },
    {
      "cell_type": "markdown",
      "metadata": {
        "id": "MP-R4VgzUxgJ",
        "colab_type": "text"
      },
      "source": [
        "Normal data pre-processing  and cleaning techniques like chaning the words to lower case, or removing stopwords and so on does not help for this problem because much information will be lost and this will not help the pre-trianed model understand the semantic meaning of new datasets.However, removing the punctuations as a part of data cleaning helped in increasing the accuracy. These informations are required to be learned to understand the patterns and variations. But, conversion needs to be done from string encoded to vector of integers which is done using TextLMDataBunch(Toeknization) and TextClassDataBunch(Numericalization) from fastai package"
      ]
    },
    {
      "cell_type": "markdown",
      "metadata": {
        "id": "C_3Iaabc9Epj",
        "colab_type": "text"
      },
      "source": [
        "**Compared to my earlier submission, I tried using numpy array of exponentially increasing values for fine-tuning the model, I increased the batch size, as a part of data cleaning I removed punctuations and also used weight decay to enhance results. By performing all these changes it helped me to increase my training and testing accuracy from 79% to 83% In addition to this, further fine tuning the model may help in achieving even higher accuracy**. "
      ]
    },
    {
      "cell_type": "code",
      "metadata": {
        "id": "2QM75Jmasrz1",
        "colab_type": "code",
        "colab": {}
      },
      "source": [
        ""
      ],
      "execution_count": 0,
      "outputs": []
    }
  ]
}